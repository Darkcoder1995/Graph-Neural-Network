{
  "nbformat": 4,
  "nbformat_minor": 0,
  "metadata": {
    "colab": {
      "provenance": []
    },
    "kernelspec": {
      "name": "python3",
      "display_name": "Python 3"
    },
    "language_info": {
      "name": "python"
    },
    "widgets": {
      "application/vnd.jupyter.widget-state+json": {
        "a7fef412c6e345d2a98f82e7816592e2": {
          "model_module": "@jupyter-widgets/controls",
          "model_name": "HBoxModel",
          "model_module_version": "1.5.0",
          "state": {
            "_dom_classes": [],
            "_model_module": "@jupyter-widgets/controls",
            "_model_module_version": "1.5.0",
            "_model_name": "HBoxModel",
            "_view_count": null,
            "_view_module": "@jupyter-widgets/controls",
            "_view_module_version": "1.5.0",
            "_view_name": "HBoxView",
            "box_style": "",
            "children": [
              "IPY_MODEL_e42f2a111d3f4a689ba6284510422c99",
              "IPY_MODEL_9c2010ecf50e4962b66997aba87f1ae6",
              "IPY_MODEL_e7cf66753305487f896680622119ad96"
            ],
            "layout": "IPY_MODEL_0273ca15a77b403191171b86a137aed2"
          }
        },
        "e42f2a111d3f4a689ba6284510422c99": {
          "model_module": "@jupyter-widgets/controls",
          "model_name": "HTMLModel",
          "model_module_version": "1.5.0",
          "state": {
            "_dom_classes": [],
            "_model_module": "@jupyter-widgets/controls",
            "_model_module_version": "1.5.0",
            "_model_name": "HTMLModel",
            "_view_count": null,
            "_view_module": "@jupyter-widgets/controls",
            "_view_module_version": "1.5.0",
            "_view_name": "HTMLView",
            "description": "",
            "description_tooltip": null,
            "layout": "IPY_MODEL_abc6a13dca5a4a9691187cc51e27f87d",
            "placeholder": "​",
            "style": "IPY_MODEL_3585c24c957d4cd8ba36765c9b6f78ea",
            "value": "100%"
          }
        },
        "9c2010ecf50e4962b66997aba87f1ae6": {
          "model_module": "@jupyter-widgets/controls",
          "model_name": "FloatProgressModel",
          "model_module_version": "1.5.0",
          "state": {
            "_dom_classes": [],
            "_model_module": "@jupyter-widgets/controls",
            "_model_module_version": "1.5.0",
            "_model_name": "FloatProgressModel",
            "_view_count": null,
            "_view_module": "@jupyter-widgets/controls",
            "_view_module_version": "1.5.0",
            "_view_name": "ProgressView",
            "bar_style": "success",
            "description": "",
            "description_tooltip": null,
            "layout": "IPY_MODEL_37709819060f4c77b469fcdb8c06b0e7",
            "max": 10000,
            "min": 0,
            "orientation": "horizontal",
            "style": "IPY_MODEL_2b0c475fe2fb418eb4e287cfee5237fe",
            "value": 10000
          }
        },
        "e7cf66753305487f896680622119ad96": {
          "model_module": "@jupyter-widgets/controls",
          "model_name": "HTMLModel",
          "model_module_version": "1.5.0",
          "state": {
            "_dom_classes": [],
            "_model_module": "@jupyter-widgets/controls",
            "_model_module_version": "1.5.0",
            "_model_name": "HTMLModel",
            "_view_count": null,
            "_view_module": "@jupyter-widgets/controls",
            "_view_module_version": "1.5.0",
            "_view_name": "HTMLView",
            "description": "",
            "description_tooltip": null,
            "layout": "IPY_MODEL_49ba0f779ce14c1a8fa556151e1a9d09",
            "placeholder": "​",
            "style": "IPY_MODEL_ca0f1ae555a5465985df5c6d124f6b3b",
            "value": " 10000/10000 [1:15:06&lt;00:00,  2.04it/s]"
          }
        },
        "0273ca15a77b403191171b86a137aed2": {
          "model_module": "@jupyter-widgets/base",
          "model_name": "LayoutModel",
          "model_module_version": "1.2.0",
          "state": {
            "_model_module": "@jupyter-widgets/base",
            "_model_module_version": "1.2.0",
            "_model_name": "LayoutModel",
            "_view_count": null,
            "_view_module": "@jupyter-widgets/base",
            "_view_module_version": "1.2.0",
            "_view_name": "LayoutView",
            "align_content": null,
            "align_items": null,
            "align_self": null,
            "border": null,
            "bottom": null,
            "display": null,
            "flex": null,
            "flex_flow": null,
            "grid_area": null,
            "grid_auto_columns": null,
            "grid_auto_flow": null,
            "grid_auto_rows": null,
            "grid_column": null,
            "grid_gap": null,
            "grid_row": null,
            "grid_template_areas": null,
            "grid_template_columns": null,
            "grid_template_rows": null,
            "height": null,
            "justify_content": null,
            "justify_items": null,
            "left": null,
            "margin": null,
            "max_height": null,
            "max_width": null,
            "min_height": null,
            "min_width": null,
            "object_fit": null,
            "object_position": null,
            "order": null,
            "overflow": null,
            "overflow_x": null,
            "overflow_y": null,
            "padding": null,
            "right": null,
            "top": null,
            "visibility": null,
            "width": null
          }
        },
        "abc6a13dca5a4a9691187cc51e27f87d": {
          "model_module": "@jupyter-widgets/base",
          "model_name": "LayoutModel",
          "model_module_version": "1.2.0",
          "state": {
            "_model_module": "@jupyter-widgets/base",
            "_model_module_version": "1.2.0",
            "_model_name": "LayoutModel",
            "_view_count": null,
            "_view_module": "@jupyter-widgets/base",
            "_view_module_version": "1.2.0",
            "_view_name": "LayoutView",
            "align_content": null,
            "align_items": null,
            "align_self": null,
            "border": null,
            "bottom": null,
            "display": null,
            "flex": null,
            "flex_flow": null,
            "grid_area": null,
            "grid_auto_columns": null,
            "grid_auto_flow": null,
            "grid_auto_rows": null,
            "grid_column": null,
            "grid_gap": null,
            "grid_row": null,
            "grid_template_areas": null,
            "grid_template_columns": null,
            "grid_template_rows": null,
            "height": null,
            "justify_content": null,
            "justify_items": null,
            "left": null,
            "margin": null,
            "max_height": null,
            "max_width": null,
            "min_height": null,
            "min_width": null,
            "object_fit": null,
            "object_position": null,
            "order": null,
            "overflow": null,
            "overflow_x": null,
            "overflow_y": null,
            "padding": null,
            "right": null,
            "top": null,
            "visibility": null,
            "width": null
          }
        },
        "3585c24c957d4cd8ba36765c9b6f78ea": {
          "model_module": "@jupyter-widgets/controls",
          "model_name": "DescriptionStyleModel",
          "model_module_version": "1.5.0",
          "state": {
            "_model_module": "@jupyter-widgets/controls",
            "_model_module_version": "1.5.0",
            "_model_name": "DescriptionStyleModel",
            "_view_count": null,
            "_view_module": "@jupyter-widgets/base",
            "_view_module_version": "1.2.0",
            "_view_name": "StyleView",
            "description_width": ""
          }
        },
        "37709819060f4c77b469fcdb8c06b0e7": {
          "model_module": "@jupyter-widgets/base",
          "model_name": "LayoutModel",
          "model_module_version": "1.2.0",
          "state": {
            "_model_module": "@jupyter-widgets/base",
            "_model_module_version": "1.2.0",
            "_model_name": "LayoutModel",
            "_view_count": null,
            "_view_module": "@jupyter-widgets/base",
            "_view_module_version": "1.2.0",
            "_view_name": "LayoutView",
            "align_content": null,
            "align_items": null,
            "align_self": null,
            "border": null,
            "bottom": null,
            "display": null,
            "flex": null,
            "flex_flow": null,
            "grid_area": null,
            "grid_auto_columns": null,
            "grid_auto_flow": null,
            "grid_auto_rows": null,
            "grid_column": null,
            "grid_gap": null,
            "grid_row": null,
            "grid_template_areas": null,
            "grid_template_columns": null,
            "grid_template_rows": null,
            "height": null,
            "justify_content": null,
            "justify_items": null,
            "left": null,
            "margin": null,
            "max_height": null,
            "max_width": null,
            "min_height": null,
            "min_width": null,
            "object_fit": null,
            "object_position": null,
            "order": null,
            "overflow": null,
            "overflow_x": null,
            "overflow_y": null,
            "padding": null,
            "right": null,
            "top": null,
            "visibility": null,
            "width": null
          }
        },
        "2b0c475fe2fb418eb4e287cfee5237fe": {
          "model_module": "@jupyter-widgets/controls",
          "model_name": "ProgressStyleModel",
          "model_module_version": "1.5.0",
          "state": {
            "_model_module": "@jupyter-widgets/controls",
            "_model_module_version": "1.5.0",
            "_model_name": "ProgressStyleModel",
            "_view_count": null,
            "_view_module": "@jupyter-widgets/base",
            "_view_module_version": "1.2.0",
            "_view_name": "StyleView",
            "bar_color": null,
            "description_width": ""
          }
        },
        "49ba0f779ce14c1a8fa556151e1a9d09": {
          "model_module": "@jupyter-widgets/base",
          "model_name": "LayoutModel",
          "model_module_version": "1.2.0",
          "state": {
            "_model_module": "@jupyter-widgets/base",
            "_model_module_version": "1.2.0",
            "_model_name": "LayoutModel",
            "_view_count": null,
            "_view_module": "@jupyter-widgets/base",
            "_view_module_version": "1.2.0",
            "_view_name": "LayoutView",
            "align_content": null,
            "align_items": null,
            "align_self": null,
            "border": null,
            "bottom": null,
            "display": null,
            "flex": null,
            "flex_flow": null,
            "grid_area": null,
            "grid_auto_columns": null,
            "grid_auto_flow": null,
            "grid_auto_rows": null,
            "grid_column": null,
            "grid_gap": null,
            "grid_row": null,
            "grid_template_areas": null,
            "grid_template_columns": null,
            "grid_template_rows": null,
            "height": null,
            "justify_content": null,
            "justify_items": null,
            "left": null,
            "margin": null,
            "max_height": null,
            "max_width": null,
            "min_height": null,
            "min_width": null,
            "object_fit": null,
            "object_position": null,
            "order": null,
            "overflow": null,
            "overflow_x": null,
            "overflow_y": null,
            "padding": null,
            "right": null,
            "top": null,
            "visibility": null,
            "width": null
          }
        },
        "ca0f1ae555a5465985df5c6d124f6b3b": {
          "model_module": "@jupyter-widgets/controls",
          "model_name": "DescriptionStyleModel",
          "model_module_version": "1.5.0",
          "state": {
            "_model_module": "@jupyter-widgets/controls",
            "_model_module_version": "1.5.0",
            "_model_name": "DescriptionStyleModel",
            "_view_count": null,
            "_view_module": "@jupyter-widgets/base",
            "_view_module_version": "1.2.0",
            "_view_name": "StyleView",
            "description_width": ""
          }
        }
      }
    }
  },
  "cells": [
    {
      "cell_type": "code",
      "source": [
        "!pip install torch-geometric"
      ],
      "metadata": {
        "colab": {
          "base_uri": "https://localhost:8080/"
        },
        "id": "wVXNcnFdBcZ-",
        "outputId": "4598ec98-ad3a-4b63-f82a-d7d804a4e5a9"
      },
      "execution_count": null,
      "outputs": [
        {
          "output_type": "stream",
          "name": "stdout",
          "text": [
            "Requirement already satisfied: torch-geometric in /usr/local/lib/python3.11/dist-packages (2.6.1)\n",
            "Requirement already satisfied: aiohttp in /usr/local/lib/python3.11/dist-packages (from torch-geometric) (3.11.15)\n",
            "Requirement already satisfied: fsspec in /usr/local/lib/python3.11/dist-packages (from torch-geometric) (2025.3.2)\n",
            "Requirement already satisfied: jinja2 in /usr/local/lib/python3.11/dist-packages (from torch-geometric) (3.1.6)\n",
            "Requirement already satisfied: numpy in /usr/local/lib/python3.11/dist-packages (from torch-geometric) (2.0.2)\n",
            "Requirement already satisfied: psutil>=5.8.0 in /usr/local/lib/python3.11/dist-packages (from torch-geometric) (5.9.5)\n",
            "Requirement already satisfied: pyparsing in /usr/local/lib/python3.11/dist-packages (from torch-geometric) (3.2.3)\n",
            "Requirement already satisfied: requests in /usr/local/lib/python3.11/dist-packages (from torch-geometric) (2.32.3)\n",
            "Requirement already satisfied: tqdm in /usr/local/lib/python3.11/dist-packages (from torch-geometric) (4.67.1)\n",
            "Requirement already satisfied: aiohappyeyeballs>=2.3.0 in /usr/local/lib/python3.11/dist-packages (from aiohttp->torch-geometric) (2.6.1)\n",
            "Requirement already satisfied: aiosignal>=1.1.2 in /usr/local/lib/python3.11/dist-packages (from aiohttp->torch-geometric) (1.3.2)\n",
            "Requirement already satisfied: attrs>=17.3.0 in /usr/local/lib/python3.11/dist-packages (from aiohttp->torch-geometric) (25.3.0)\n",
            "Requirement already satisfied: frozenlist>=1.1.1 in /usr/local/lib/python3.11/dist-packages (from aiohttp->torch-geometric) (1.6.0)\n",
            "Requirement already satisfied: multidict<7.0,>=4.5 in /usr/local/lib/python3.11/dist-packages (from aiohttp->torch-geometric) (6.4.3)\n",
            "Requirement already satisfied: propcache>=0.2.0 in /usr/local/lib/python3.11/dist-packages (from aiohttp->torch-geometric) (0.3.1)\n",
            "Requirement already satisfied: yarl<2.0,>=1.17.0 in /usr/local/lib/python3.11/dist-packages (from aiohttp->torch-geometric) (1.20.0)\n",
            "Requirement already satisfied: MarkupSafe>=2.0 in /usr/local/lib/python3.11/dist-packages (from jinja2->torch-geometric) (3.0.2)\n",
            "Requirement already satisfied: charset-normalizer<4,>=2 in /usr/local/lib/python3.11/dist-packages (from requests->torch-geometric) (3.4.2)\n",
            "Requirement already satisfied: idna<4,>=2.5 in /usr/local/lib/python3.11/dist-packages (from requests->torch-geometric) (3.10)\n",
            "Requirement already satisfied: urllib3<3,>=1.21.1 in /usr/local/lib/python3.11/dist-packages (from requests->torch-geometric) (2.4.0)\n",
            "Requirement already satisfied: certifi>=2017.4.17 in /usr/local/lib/python3.11/dist-packages (from requests->torch-geometric) (2025.4.26)\n"
          ]
        }
      ]
    },
    {
      "cell_type": "code",
      "source": [
        "!pip install torch_scatter torch_sparse -f https://data.pyg.org/whl/torch-2.6.0+cu124.html"
      ],
      "metadata": {
        "colab": {
          "base_uri": "https://localhost:8080/"
        },
        "id": "DXb5JFjIBgD0",
        "outputId": "004ee094-d811-4383-c127-3625ca0d67bc"
      },
      "execution_count": null,
      "outputs": [
        {
          "output_type": "stream",
          "name": "stdout",
          "text": [
            "Looking in links: https://data.pyg.org/whl/torch-2.6.0+cu124.html\n",
            "Requirement already satisfied: torch_scatter in /usr/local/lib/python3.11/dist-packages (2.1.2+pt26cu124)\n",
            "Requirement already satisfied: torch_sparse in /usr/local/lib/python3.11/dist-packages (0.6.18+pt26cu124)\n",
            "Requirement already satisfied: scipy in /usr/local/lib/python3.11/dist-packages (from torch_sparse) (1.15.3)\n",
            "Requirement already satisfied: numpy<2.5,>=1.23.5 in /usr/local/lib/python3.11/dist-packages (from scipy->torch_sparse) (2.0.2)\n"
          ]
        }
      ]
    },
    {
      "cell_type": "code",
      "execution_count": null,
      "metadata": {
        "id": "ZnEh60kBAZsd"
      },
      "outputs": [],
      "source": [
        "import random\n",
        "from tqdm.notebook import tqdm\n",
        "import pandas as pd\n",
        "import numpy as np\n",
        "import matplotlib.pyplot as plt\n",
        "import sklearn.model_selection as model_selection\n",
        "from sklearn import model_selection, metrics, preprocessing\n",
        "import copy\n",
        "from torch_geometric.utils import degree\n",
        "\n",
        "import torch\n",
        "from torch import nn,optim,Tensor\n",
        "\n",
        "from torch_sparse import SparseTensor, matmul\n",
        "\n",
        "from torch_geometric.utils import structured_negative_sampling\n",
        "from torch_geometric.data import download_url, extract_zip\n",
        "from torch_geometric.nn.conv.gcn_conv import gcn_norm\n",
        "from torch_geometric.nn.conv import MessagePassing\n",
        "from torch_geometric.typing import Adj"
      ]
    },
    {
      "cell_type": "code",
      "source": [
        "url = \"https://files.grouplens.org/datasets/movielens/ml-latest-small.zip\"  # Updated URL\n",
        "extract_zip(download_url(url, '.'), '.')\n",
        "\n",
        "movie_path = 'ml-latest-small/movies.csv'\n",
        "rating_path = 'ml-latest-small/ratings.csv'\n",
        "user_path = 'ml-latest-small/users.csv'"
      ],
      "metadata": {
        "colab": {
          "base_uri": "https://localhost:8080/"
        },
        "id": "lWRXyfL1Bqic",
        "outputId": "d1e98591-4346-456c-ad43-94ca268784eb"
      },
      "execution_count": null,
      "outputs": [
        {
          "output_type": "stream",
          "name": "stderr",
          "text": [
            "Using existing file ml-latest-small.zip\n",
            "Extracting ./ml-latest-small.zip\n"
          ]
        }
      ]
    },
    {
      "cell_type": "code",
      "source": [
        "rating_df=pd.read_csv(rating_path)\n",
        "\n",
        "print(rating_df.head())\n",
        "print(len(rating_df['movieId'].unique()))\n",
        "print(len(rating_df['userId'].unique()))\n",
        "rating_df.describe()"
      ],
      "metadata": {
        "colab": {
          "base_uri": "https://localhost:8080/",
          "height": 439
        },
        "id": "RbLQqeyFD18f",
        "outputId": "a93602b3-8377-435b-ce2c-e0564b0c6ea9"
      },
      "execution_count": null,
      "outputs": [
        {
          "output_type": "stream",
          "name": "stdout",
          "text": [
            "   userId  movieId  rating  timestamp\n",
            "0       1        1     4.0  964982703\n",
            "1       1        3     4.0  964981247\n",
            "2       1        6     4.0  964982224\n",
            "3       1       47     5.0  964983815\n",
            "4       1       50     5.0  964982931\n",
            "9724\n",
            "610\n"
          ]
        },
        {
          "output_type": "execute_result",
          "data": {
            "text/plain": [
              "              userId        movieId         rating     timestamp\n",
              "count  100836.000000  100836.000000  100836.000000  1.008360e+05\n",
              "mean      326.127564   19435.295718       3.501557  1.205946e+09\n",
              "std       182.618491   35530.987199       1.042529  2.162610e+08\n",
              "min         1.000000       1.000000       0.500000  8.281246e+08\n",
              "25%       177.000000    1199.000000       3.000000  1.019124e+09\n",
              "50%       325.000000    2991.000000       3.500000  1.186087e+09\n",
              "75%       477.000000    8122.000000       4.000000  1.435994e+09\n",
              "max       610.000000  193609.000000       5.000000  1.537799e+09"
            ],
            "text/html": [
              "\n",
              "  <div id=\"df-db58cdaf-c06a-40a3-8883-b97a2e2265dd\" class=\"colab-df-container\">\n",
              "    <div>\n",
              "<style scoped>\n",
              "    .dataframe tbody tr th:only-of-type {\n",
              "        vertical-align: middle;\n",
              "    }\n",
              "\n",
              "    .dataframe tbody tr th {\n",
              "        vertical-align: top;\n",
              "    }\n",
              "\n",
              "    .dataframe thead th {\n",
              "        text-align: right;\n",
              "    }\n",
              "</style>\n",
              "<table border=\"1\" class=\"dataframe\">\n",
              "  <thead>\n",
              "    <tr style=\"text-align: right;\">\n",
              "      <th></th>\n",
              "      <th>userId</th>\n",
              "      <th>movieId</th>\n",
              "      <th>rating</th>\n",
              "      <th>timestamp</th>\n",
              "    </tr>\n",
              "  </thead>\n",
              "  <tbody>\n",
              "    <tr>\n",
              "      <th>count</th>\n",
              "      <td>100836.000000</td>\n",
              "      <td>100836.000000</td>\n",
              "      <td>100836.000000</td>\n",
              "      <td>1.008360e+05</td>\n",
              "    </tr>\n",
              "    <tr>\n",
              "      <th>mean</th>\n",
              "      <td>326.127564</td>\n",
              "      <td>19435.295718</td>\n",
              "      <td>3.501557</td>\n",
              "      <td>1.205946e+09</td>\n",
              "    </tr>\n",
              "    <tr>\n",
              "      <th>std</th>\n",
              "      <td>182.618491</td>\n",
              "      <td>35530.987199</td>\n",
              "      <td>1.042529</td>\n",
              "      <td>2.162610e+08</td>\n",
              "    </tr>\n",
              "    <tr>\n",
              "      <th>min</th>\n",
              "      <td>1.000000</td>\n",
              "      <td>1.000000</td>\n",
              "      <td>0.500000</td>\n",
              "      <td>8.281246e+08</td>\n",
              "    </tr>\n",
              "    <tr>\n",
              "      <th>25%</th>\n",
              "      <td>177.000000</td>\n",
              "      <td>1199.000000</td>\n",
              "      <td>3.000000</td>\n",
              "      <td>1.019124e+09</td>\n",
              "    </tr>\n",
              "    <tr>\n",
              "      <th>50%</th>\n",
              "      <td>325.000000</td>\n",
              "      <td>2991.000000</td>\n",
              "      <td>3.500000</td>\n",
              "      <td>1.186087e+09</td>\n",
              "    </tr>\n",
              "    <tr>\n",
              "      <th>75%</th>\n",
              "      <td>477.000000</td>\n",
              "      <td>8122.000000</td>\n",
              "      <td>4.000000</td>\n",
              "      <td>1.435994e+09</td>\n",
              "    </tr>\n",
              "    <tr>\n",
              "      <th>max</th>\n",
              "      <td>610.000000</td>\n",
              "      <td>193609.000000</td>\n",
              "      <td>5.000000</td>\n",
              "      <td>1.537799e+09</td>\n",
              "    </tr>\n",
              "  </tbody>\n",
              "</table>\n",
              "</div>\n",
              "    <div class=\"colab-df-buttons\">\n",
              "\n",
              "  <div class=\"colab-df-container\">\n",
              "    <button class=\"colab-df-convert\" onclick=\"convertToInteractive('df-db58cdaf-c06a-40a3-8883-b97a2e2265dd')\"\n",
              "            title=\"Convert this dataframe to an interactive table.\"\n",
              "            style=\"display:none;\">\n",
              "\n",
              "  <svg xmlns=\"http://www.w3.org/2000/svg\" height=\"24px\" viewBox=\"0 -960 960 960\">\n",
              "    <path d=\"M120-120v-720h720v720H120Zm60-500h600v-160H180v160Zm220 220h160v-160H400v160Zm0 220h160v-160H400v160ZM180-400h160v-160H180v160Zm440 0h160v-160H620v160ZM180-180h160v-160H180v160Zm440 0h160v-160H620v160Z\"/>\n",
              "  </svg>\n",
              "    </button>\n",
              "\n",
              "  <style>\n",
              "    .colab-df-container {\n",
              "      display:flex;\n",
              "      gap: 12px;\n",
              "    }\n",
              "\n",
              "    .colab-df-convert {\n",
              "      background-color: #E8F0FE;\n",
              "      border: none;\n",
              "      border-radius: 50%;\n",
              "      cursor: pointer;\n",
              "      display: none;\n",
              "      fill: #1967D2;\n",
              "      height: 32px;\n",
              "      padding: 0 0 0 0;\n",
              "      width: 32px;\n",
              "    }\n",
              "\n",
              "    .colab-df-convert:hover {\n",
              "      background-color: #E2EBFA;\n",
              "      box-shadow: 0px 1px 2px rgba(60, 64, 67, 0.3), 0px 1px 3px 1px rgba(60, 64, 67, 0.15);\n",
              "      fill: #174EA6;\n",
              "    }\n",
              "\n",
              "    .colab-df-buttons div {\n",
              "      margin-bottom: 4px;\n",
              "    }\n",
              "\n",
              "    [theme=dark] .colab-df-convert {\n",
              "      background-color: #3B4455;\n",
              "      fill: #D2E3FC;\n",
              "    }\n",
              "\n",
              "    [theme=dark] .colab-df-convert:hover {\n",
              "      background-color: #434B5C;\n",
              "      box-shadow: 0px 1px 3px 1px rgba(0, 0, 0, 0.15);\n",
              "      filter: drop-shadow(0px 1px 2px rgba(0, 0, 0, 0.3));\n",
              "      fill: #FFFFFF;\n",
              "    }\n",
              "  </style>\n",
              "\n",
              "    <script>\n",
              "      const buttonEl =\n",
              "        document.querySelector('#df-db58cdaf-c06a-40a3-8883-b97a2e2265dd button.colab-df-convert');\n",
              "      buttonEl.style.display =\n",
              "        google.colab.kernel.accessAllowed ? 'block' : 'none';\n",
              "\n",
              "      async function convertToInteractive(key) {\n",
              "        const element = document.querySelector('#df-db58cdaf-c06a-40a3-8883-b97a2e2265dd');\n",
              "        const dataTable =\n",
              "          await google.colab.kernel.invokeFunction('convertToInteractive',\n",
              "                                                    [key], {});\n",
              "        if (!dataTable) return;\n",
              "\n",
              "        const docLinkHtml = 'Like what you see? Visit the ' +\n",
              "          '<a target=\"_blank\" href=https://colab.research.google.com/notebooks/data_table.ipynb>data table notebook</a>'\n",
              "          + ' to learn more about interactive tables.';\n",
              "        element.innerHTML = '';\n",
              "        dataTable['output_type'] = 'display_data';\n",
              "        await google.colab.output.renderOutput(dataTable, element);\n",
              "        const docLink = document.createElement('div');\n",
              "        docLink.innerHTML = docLinkHtml;\n",
              "        element.appendChild(docLink);\n",
              "      }\n",
              "    </script>\n",
              "  </div>\n",
              "\n",
              "\n",
              "    <div id=\"df-cd08ff33-73a4-4e9b-9b14-6084f4304476\">\n",
              "      <button class=\"colab-df-quickchart\" onclick=\"quickchart('df-cd08ff33-73a4-4e9b-9b14-6084f4304476')\"\n",
              "                title=\"Suggest charts\"\n",
              "                style=\"display:none;\">\n",
              "\n",
              "<svg xmlns=\"http://www.w3.org/2000/svg\" height=\"24px\"viewBox=\"0 0 24 24\"\n",
              "     width=\"24px\">\n",
              "    <g>\n",
              "        <path d=\"M19 3H5c-1.1 0-2 .9-2 2v14c0 1.1.9 2 2 2h14c1.1 0 2-.9 2-2V5c0-1.1-.9-2-2-2zM9 17H7v-7h2v7zm4 0h-2V7h2v10zm4 0h-2v-4h2v4z\"/>\n",
              "    </g>\n",
              "</svg>\n",
              "      </button>\n",
              "\n",
              "<style>\n",
              "  .colab-df-quickchart {\n",
              "      --bg-color: #E8F0FE;\n",
              "      --fill-color: #1967D2;\n",
              "      --hover-bg-color: #E2EBFA;\n",
              "      --hover-fill-color: #174EA6;\n",
              "      --disabled-fill-color: #AAA;\n",
              "      --disabled-bg-color: #DDD;\n",
              "  }\n",
              "\n",
              "  [theme=dark] .colab-df-quickchart {\n",
              "      --bg-color: #3B4455;\n",
              "      --fill-color: #D2E3FC;\n",
              "      --hover-bg-color: #434B5C;\n",
              "      --hover-fill-color: #FFFFFF;\n",
              "      --disabled-bg-color: #3B4455;\n",
              "      --disabled-fill-color: #666;\n",
              "  }\n",
              "\n",
              "  .colab-df-quickchart {\n",
              "    background-color: var(--bg-color);\n",
              "    border: none;\n",
              "    border-radius: 50%;\n",
              "    cursor: pointer;\n",
              "    display: none;\n",
              "    fill: var(--fill-color);\n",
              "    height: 32px;\n",
              "    padding: 0;\n",
              "    width: 32px;\n",
              "  }\n",
              "\n",
              "  .colab-df-quickchart:hover {\n",
              "    background-color: var(--hover-bg-color);\n",
              "    box-shadow: 0 1px 2px rgba(60, 64, 67, 0.3), 0 1px 3px 1px rgba(60, 64, 67, 0.15);\n",
              "    fill: var(--button-hover-fill-color);\n",
              "  }\n",
              "\n",
              "  .colab-df-quickchart-complete:disabled,\n",
              "  .colab-df-quickchart-complete:disabled:hover {\n",
              "    background-color: var(--disabled-bg-color);\n",
              "    fill: var(--disabled-fill-color);\n",
              "    box-shadow: none;\n",
              "  }\n",
              "\n",
              "  .colab-df-spinner {\n",
              "    border: 2px solid var(--fill-color);\n",
              "    border-color: transparent;\n",
              "    border-bottom-color: var(--fill-color);\n",
              "    animation:\n",
              "      spin 1s steps(1) infinite;\n",
              "  }\n",
              "\n",
              "  @keyframes spin {\n",
              "    0% {\n",
              "      border-color: transparent;\n",
              "      border-bottom-color: var(--fill-color);\n",
              "      border-left-color: var(--fill-color);\n",
              "    }\n",
              "    20% {\n",
              "      border-color: transparent;\n",
              "      border-left-color: var(--fill-color);\n",
              "      border-top-color: var(--fill-color);\n",
              "    }\n",
              "    30% {\n",
              "      border-color: transparent;\n",
              "      border-left-color: var(--fill-color);\n",
              "      border-top-color: var(--fill-color);\n",
              "      border-right-color: var(--fill-color);\n",
              "    }\n",
              "    40% {\n",
              "      border-color: transparent;\n",
              "      border-right-color: var(--fill-color);\n",
              "      border-top-color: var(--fill-color);\n",
              "    }\n",
              "    60% {\n",
              "      border-color: transparent;\n",
              "      border-right-color: var(--fill-color);\n",
              "    }\n",
              "    80% {\n",
              "      border-color: transparent;\n",
              "      border-right-color: var(--fill-color);\n",
              "      border-bottom-color: var(--fill-color);\n",
              "    }\n",
              "    90% {\n",
              "      border-color: transparent;\n",
              "      border-bottom-color: var(--fill-color);\n",
              "    }\n",
              "  }\n",
              "</style>\n",
              "\n",
              "      <script>\n",
              "        async function quickchart(key) {\n",
              "          const quickchartButtonEl =\n",
              "            document.querySelector('#' + key + ' button');\n",
              "          quickchartButtonEl.disabled = true;  // To prevent multiple clicks.\n",
              "          quickchartButtonEl.classList.add('colab-df-spinner');\n",
              "          try {\n",
              "            const charts = await google.colab.kernel.invokeFunction(\n",
              "                'suggestCharts', [key], {});\n",
              "          } catch (error) {\n",
              "            console.error('Error during call to suggestCharts:', error);\n",
              "          }\n",
              "          quickchartButtonEl.classList.remove('colab-df-spinner');\n",
              "          quickchartButtonEl.classList.add('colab-df-quickchart-complete');\n",
              "        }\n",
              "        (() => {\n",
              "          let quickchartButtonEl =\n",
              "            document.querySelector('#df-cd08ff33-73a4-4e9b-9b14-6084f4304476 button');\n",
              "          quickchartButtonEl.style.display =\n",
              "            google.colab.kernel.accessAllowed ? 'block' : 'none';\n",
              "        })();\n",
              "      </script>\n",
              "    </div>\n",
              "\n",
              "    </div>\n",
              "  </div>\n"
            ],
            "application/vnd.google.colaboratory.intrinsic+json": {
              "type": "dataframe",
              "summary": "{\n  \"name\": \"rating_df\",\n  \"rows\": 8,\n  \"fields\": [\n    {\n      \"column\": \"userId\",\n      \"properties\": {\n        \"dtype\": \"number\",\n        \"std\": 35545.40345112833,\n        \"min\": 1.0,\n        \"max\": 100836.0,\n        \"num_unique_values\": 8,\n        \"samples\": [\n          326.12756356856676,\n          325.0,\n          100836.0\n        ],\n        \"semantic_type\": \"\",\n        \"description\": \"\"\n      }\n    },\n    {\n      \"column\": \"movieId\",\n      \"properties\": {\n        \"dtype\": \"number\",\n        \"std\": 68674.51077210996,\n        \"min\": 1.0,\n        \"max\": 193609.0,\n        \"num_unique_values\": 8,\n        \"samples\": [\n          19435.2957177992,\n          2991.0,\n          100836.0\n        ],\n        \"semantic_type\": \"\",\n        \"description\": \"\"\n      }\n    },\n    {\n      \"column\": \"rating\",\n      \"properties\": {\n        \"dtype\": \"number\",\n        \"std\": 35649.87209197801,\n        \"min\": 0.5,\n        \"max\": 100836.0,\n        \"num_unique_values\": 8,\n        \"samples\": [\n          3.501556983616962,\n          3.5,\n          100836.0\n        ],\n        \"semantic_type\": \"\",\n        \"description\": \"\"\n      }\n    },\n    {\n      \"column\": \"timestamp\",\n      \"properties\": {\n        \"dtype\": \"number\",\n        \"std\": 555443207.4882221,\n        \"min\": 100836.0,\n        \"max\": 1537799250.0,\n        \"num_unique_values\": 8,\n        \"samples\": [\n          1205946087.3684695,\n          1186086662.0,\n          100836.0\n        ],\n        \"semantic_type\": \"\",\n        \"description\": \"\"\n      }\n    }\n  ]\n}"
            }
          },
          "metadata": {},
          "execution_count": 5
        }
      ]
    },
    {
      "cell_type": "code",
      "source": [
        "lbl_user = preprocessing.LabelEncoder()\n",
        "lbl_movie = preprocessing.LabelEncoder()\n",
        "\n",
        "rating_df['userId'] = lbl_user.fit_transform(rating_df['userId'].values)\n",
        "rating_df['movieId'] = lbl_movie.fit_transform(rating_df['movieId'].values)"
      ],
      "metadata": {
        "id": "Vfr2ucVeGL59"
      },
      "execution_count": null,
      "outputs": []
    },
    {
      "cell_type": "code",
      "source": [
        "print(rating_df.userId.max())\n",
        "print(rating_df.movieId.max())"
      ],
      "metadata": {
        "colab": {
          "base_uri": "https://localhost:8080/"
        },
        "id": "-5yO_AdiVwSA",
        "outputId": "5735b38f-f0a3-465c-89a3-816a672dffa9"
      },
      "execution_count": null,
      "outputs": [
        {
          "output_type": "stream",
          "name": "stdout",
          "text": [
            "609\n",
            "9723\n"
          ]
        }
      ]
    },
    {
      "cell_type": "code",
      "source": [
        "rating_df.rating.value_counts()"
      ],
      "metadata": {
        "colab": {
          "base_uri": "https://localhost:8080/",
          "height": 429
        },
        "id": "y9VEnqyDV8Zp",
        "outputId": "8003e344-1000-4c89-a882-005a52fdbaf0"
      },
      "execution_count": null,
      "outputs": [
        {
          "output_type": "execute_result",
          "data": {
            "text/plain": [
              "rating\n",
              "4.0    26818\n",
              "3.0    20047\n",
              "5.0    13211\n",
              "3.5    13136\n",
              "4.5     8551\n",
              "2.0     7551\n",
              "2.5     5550\n",
              "1.0     2811\n",
              "1.5     1791\n",
              "0.5     1370\n",
              "Name: count, dtype: int64"
            ],
            "text/html": [
              "<div>\n",
              "<style scoped>\n",
              "    .dataframe tbody tr th:only-of-type {\n",
              "        vertical-align: middle;\n",
              "    }\n",
              "\n",
              "    .dataframe tbody tr th {\n",
              "        vertical-align: top;\n",
              "    }\n",
              "\n",
              "    .dataframe thead th {\n",
              "        text-align: right;\n",
              "    }\n",
              "</style>\n",
              "<table border=\"1\" class=\"dataframe\">\n",
              "  <thead>\n",
              "    <tr style=\"text-align: right;\">\n",
              "      <th></th>\n",
              "      <th>count</th>\n",
              "    </tr>\n",
              "    <tr>\n",
              "      <th>rating</th>\n",
              "      <th></th>\n",
              "    </tr>\n",
              "  </thead>\n",
              "  <tbody>\n",
              "    <tr>\n",
              "      <th>4.0</th>\n",
              "      <td>26818</td>\n",
              "    </tr>\n",
              "    <tr>\n",
              "      <th>3.0</th>\n",
              "      <td>20047</td>\n",
              "    </tr>\n",
              "    <tr>\n",
              "      <th>5.0</th>\n",
              "      <td>13211</td>\n",
              "    </tr>\n",
              "    <tr>\n",
              "      <th>3.5</th>\n",
              "      <td>13136</td>\n",
              "    </tr>\n",
              "    <tr>\n",
              "      <th>4.5</th>\n",
              "      <td>8551</td>\n",
              "    </tr>\n",
              "    <tr>\n",
              "      <th>2.0</th>\n",
              "      <td>7551</td>\n",
              "    </tr>\n",
              "    <tr>\n",
              "      <th>2.5</th>\n",
              "      <td>5550</td>\n",
              "    </tr>\n",
              "    <tr>\n",
              "      <th>1.0</th>\n",
              "      <td>2811</td>\n",
              "    </tr>\n",
              "    <tr>\n",
              "      <th>1.5</th>\n",
              "      <td>1791</td>\n",
              "    </tr>\n",
              "    <tr>\n",
              "      <th>0.5</th>\n",
              "      <td>1370</td>\n",
              "    </tr>\n",
              "  </tbody>\n",
              "</table>\n",
              "</div><br><label><b>dtype:</b> int64</label>"
            ]
          },
          "metadata": {},
          "execution_count": 8
        }
      ]
    },
    {
      "cell_type": "code",
      "source": [
        "def load_edge_csv(df,\n",
        "                  src_index_col,\n",
        "                  dst_index_col,\n",
        "                  link_index_col,\n",
        "                  rating_threshold=3):\n",
        "  edge_index=None\n",
        "  src=[user_id for user_id in df['userId']]\n",
        "  dst=[(movie_id) for movie_id in df['movieId']]\n",
        "  edge_attr=torch.from_numpy(df[link_index_col].values).view(-1,1).to(torch.long)>=rating_threshold\n",
        "  edge_index=[[],[]]\n",
        "  for i in range(edge_attr.shape[0]):\n",
        "    if edge_attr[i]:\n",
        "      edge_index[0].append(src[i])\n",
        "      edge_index[1].append(dst[i])\n",
        "  return edge_index"
      ],
      "metadata": {
        "id": "1ULYlvmJV_qA"
      },
      "execution_count": null,
      "outputs": []
    },
    {
      "cell_type": "code",
      "source": [
        "edge_index=load_edge_csv(rating_df,\n",
        "                  src_index_col='userId',\n",
        "                  dst_index_col='movieId',\n",
        "                  link_index_col='rating',\n",
        "                  rating_threshold=3.5,\n",
        "                         )\n",
        "\n",
        "print(f\"{len(edge_index)} * {len(edge_index[0])}\")"
      ],
      "metadata": {
        "colab": {
          "base_uri": "https://localhost:8080/"
        },
        "id": "XyHRthUeXBeL",
        "outputId": "88c43905-f8be-4910-ff3e-bd3592207822"
      },
      "execution_count": null,
      "outputs": [
        {
          "output_type": "stream",
          "name": "stdout",
          "text": [
            "2 * 48580\n"
          ]
        }
      ]
    },
    {
      "cell_type": "code",
      "source": [
        "edge_index=torch.LongTensor(edge_index)\n",
        "print(edge_index)\n",
        "print(edge_index.size())"
      ],
      "metadata": {
        "colab": {
          "base_uri": "https://localhost:8080/"
        },
        "id": "r7Vh1UBoXXzB",
        "outputId": "a9c3751d-d40c-4a25-fe1e-d9697bb2aedb"
      },
      "execution_count": null,
      "outputs": [
        {
          "output_type": "stream",
          "name": "stdout",
          "text": [
            "tensor([[   0,    0,    0,  ...,  609,  609,  609],\n",
            "        [   0,    2,    5,  ..., 9443, 9444, 9445]])\n",
            "torch.Size([2, 48580])\n"
          ]
        }
      ]
    },
    {
      "cell_type": "code",
      "source": [
        "num_users=len(rating_df['userId'].unique())\n",
        "num_movies=len(rating_df['movieId'].unique())"
      ],
      "metadata": {
        "id": "nfoe5rRzXk8L"
      },
      "execution_count": null,
      "outputs": []
    },
    {
      "cell_type": "code",
      "source": [
        "num_interactions=edge_index.shape[1]\n",
        "all_indices = [i for i in range(num_interactions)]\n",
        "\n",
        "train_indices, test_indices = model_selection.train_test_split(\n",
        "    all_indices,\n",
        "    test_size=0.2,\n",
        "    random_state=1\n",
        ")\n",
        "\n",
        "val_indices, test_indices = model_selection.train_test_split(\n",
        "    test_indices,\n",
        "    test_size=0.5,\n",
        "    random_state=1\n",
        ")\n",
        "\n",
        "train_edge_index = edge_index[:, train_indices]\n",
        "val_edge_index = edge_index[:, val_indices]\n",
        "test_edge_index = edge_index[:, test_indices]"
      ],
      "metadata": {
        "id": "LDZiCJfwZPCl"
      },
      "execution_count": null,
      "outputs": []
    },
    {
      "cell_type": "code",
      "source": [
        "print(f\"num_users: {num_users}, num_movies: {num_movies}, num_interactions: {num_interactions}\")\n",
        "print(f\"train_edge_index: {train_edge_index}\")\n",
        "print((num_users+num_movies))\n",
        "print(torch.unique(train_edge_index[0]).size())\n",
        "print(torch.unique(train_edge_index[1]).size())"
      ],
      "metadata": {
        "colab": {
          "base_uri": "https://localhost:8080/"
        },
        "id": "BgTPrwVhZrmL",
        "outputId": "ba226c33-a5f7-43e9-8c3d-62bbe9b1fac8"
      },
      "execution_count": null,
      "outputs": [
        {
          "output_type": "stream",
          "name": "stdout",
          "text": [
            "num_users: 610, num_movies: 9724, num_interactions: 48580\n",
            "train_edge_index: tensor([[ 605,  110,  442,  ...,   65,  161,  427],\n",
            "        [1110, 9619, 1283,  ..., 4640,  443,  827]])\n",
            "10334\n",
            "torch.Size([609])\n",
            "torch.Size([5676])\n"
          ]
        }
      ]
    },
    {
      "cell_type": "code",
      "source": [
        "def convert_r_mat_edge_index_to_adj_mat_edge_index(input_edge_index):\n",
        "  R=torch.zeros((num_users,num_movies))\n",
        "  for i in range(len(input_edge_index[0])):\n",
        "    row_idx=input_edge_index[0][i]\n",
        "    col_idx=input_edge_index[1][i]\n",
        "    R[row_idx][col_idx]=1\n",
        "\n",
        "  R_transpose=torch.transpose(R,0,1)\n",
        "  adj_mat=torch.zeros((num_users+num_movies,num_users+num_movies))\n",
        "  adj_mat[:num_users,num_users:]=R.clone()\n",
        "  adj_mat[num_users:,:num_users]=R_transpose.clone()\n",
        "  adj_mat_coo=adj_mat.to_sparse_coo()\n",
        "  adj_mat_coo=adj_mat_coo.indices()\n",
        "  return adj_mat_coo"
      ],
      "metadata": {
        "id": "N6zmS1MuaLMl"
      },
      "execution_count": null,
      "outputs": []
    },
    {
      "cell_type": "code",
      "source": [
        "def convert_adj_mat_edge_index_to_r_mat_edge_index(input_edge_index):\n",
        "  sparse_input_edge_index=SparseTensor(row=input_edge_index[0],\n",
        "                                       col=input_edge_index[1],\n",
        "                                       sparse_sizes=((num_users+num_movies),num_users+num_movies))\n",
        "  adj_mat=sparse_input_edge_index.to_dense()\n",
        "  interact_mat=adj_mat[:num_users,num_users:]\n",
        "  r_mat_edge_index=interact_mat.to_sparse_coo().indices()\n",
        "  return r_mat_edge_index"
      ],
      "metadata": {
        "id": "-WCc8LEEgWK4"
      },
      "execution_count": null,
      "outputs": []
    },
    {
      "cell_type": "code",
      "source": [
        "train_edge_index=convert_r_mat_edge_index_to_adj_mat_edge_index(train_edge_index)\n",
        "val_edge_index=convert_r_mat_edge_index_to_adj_mat_edge_index(val_edge_index)\n",
        "test_edge_index=convert_r_mat_edge_index_to_adj_mat_edge_index(test_edge_index)"
      ],
      "metadata": {
        "id": "eNvsBZNFhz3J"
      },
      "execution_count": null,
      "outputs": []
    },
    {
      "cell_type": "code",
      "source": [
        "print(train_edge_index)\n",
        "print(train_edge_index.size())\n",
        "print(val_edge_index)\n",
        "print(val_edge_index.size())\n",
        "print(test_edge_index)\n",
        "print(test_edge_index.size())"
      ],
      "metadata": {
        "colab": {
          "base_uri": "https://localhost:8080/"
        },
        "id": "tIm7PA0ij8ip",
        "outputId": "5416e5c3-881c-4a8b-93f9-8242b4bf2533"
      },
      "execution_count": null,
      "outputs": [
        {
          "output_type": "stream",
          "name": "stdout",
          "text": [
            "tensor([[    0,     0,     0,  ..., 10326, 10327, 10333],\n",
            "        [  610,   612,   653,  ...,   183,   183,   330]])\n",
            "torch.Size([2, 77728])\n",
            "tensor([[    0,     0,     0,  ..., 10226, 10236, 10240],\n",
            "        [  615,   794,  2010,  ...,   317,   204,   413]])\n",
            "torch.Size([2, 9716])\n",
            "tensor([[    0,     0,     0,  ..., 10301, 10302, 10329],\n",
            "        [  811,  1086,  1095,  ...,   585,   585,   183]])\n",
            "torch.Size([2, 9716])\n"
          ]
        }
      ]
    },
    {
      "cell_type": "code",
      "source": [
        "def sample_mini_batch(batch_size,edge_index):\n",
        "  edges=structured_negative_sampling(edge_index)\n",
        "  edges=torch.stack(edges,dim=0)\n",
        "  indices=random.choices([i for i in range(edges[0].shape[0])],k=batch_size)\n",
        "  batch=edges[:,indices]\n",
        "  user_indices,pos_item_indices,neg_item_indices=batch[0],batch[1],batch[2]\n",
        "  return user_indices,pos_item_indices,neg_item_indices"
      ],
      "metadata": {
        "id": "lLfbbmoQkLb3"
      },
      "execution_count": null,
      "outputs": []
    },
    {
      "cell_type": "code",
      "source": [
        "class LightGCN(MessagePassing):\n",
        "  def __init__(self,num_users,num_items,embedding_dim=64,K=3,add_self_loops=False):\n",
        "    super().__init__()\n",
        "    self.num_users=num_users\n",
        "    self.num_items=num_items\n",
        "    self.embedding_dim=embedding_dim\n",
        "    self.K=K\n",
        "    self.add_self_loops=add_self_loops\n",
        "\n",
        "    self.users_emb=nn.Embedding(num_embeddings=self.num_users,embedding_dim=self.embedding_dim)\n",
        "    self.items_emb=nn.Embedding(num_embeddings=self.num_items,embedding_dim=self.embedding_dim)\n",
        "    nn.init.normal_(self.users_emb.weight,std=0.1)\n",
        "    nn.init.normal_(self.items_emb.weight,std=0.1)\n",
        "\n",
        "  def forward(self,edge_index:Tensor):\n",
        "    edge_index_norm=gcn_norm(edge_index=edge_index,add_self_loops=self.add_self_loops)\n",
        "    emb_0=torch.cat([self.users_emb.weight,self.items_emb.weight])\n",
        "    embs=[emb_0]\n",
        "    emb_k=emb_0\n",
        "\n",
        "    for i in range(self.K):\n",
        "      emb_k=self.propagate(edge_index=edge_index_norm[0],x=emb_k,norm=edge_index_norm[1])\n",
        "      embs.append(emb_k)\n",
        "\n",
        "    embs=torch.stack(embs,dim=1)\n",
        "    emb_final=torch.mean(embs,dim=1)\n",
        "    users_emb_final,items_emb_final=torch.split(emb_final,[self.num_users,self.num_items])\n",
        "    return users_emb_final,self.users_emb.weight,items_emb_final,self.items_emb.weight\n",
        "\n",
        "  def message(self,x_j,norm):\n",
        "    return norm.view(-1,1)*x_j"
      ],
      "metadata": {
        "id": "757NWuSJpGzN"
      },
      "execution_count": null,
      "outputs": []
    },
    {
      "cell_type": "code",
      "source": [
        "layers=3\n",
        "model=LightGCN(num_users=num_users,num_items=num_movies,K=layers)"
      ],
      "metadata": {
        "id": "mh7SlveTK92l"
      },
      "execution_count": null,
      "outputs": []
    },
    {
      "cell_type": "code",
      "source": [
        "def bpr_loss(users_emb_final,\n",
        "             users_emb_0,\n",
        "             pos_items_emb_final,\n",
        "             pos_items_emb_0,\n",
        "             neg_items_emb_final,\n",
        "             neg_items_emb_0,\n",
        "             lambda_val):\n",
        "  reg_loss = lambda_val * (users_emb_0.norm(2).pow(2) +\n",
        "                             pos_items_emb_0.norm(2).pow(2) +\n",
        "                             neg_items_emb_0.norm(2).pow(2))\n",
        "\n",
        "  pos_scores = torch.mul(users_emb_final, pos_items_emb_final)\n",
        "  pos_scores = torch.sum(pos_scores, dim=-1)\n",
        "  neg_scores = torch.mul(users_emb_final, neg_items_emb_final)\n",
        "  neg_scores = torch.sum(neg_scores, dim=-1)\n",
        "\n",
        "  bpr_loss = -torch.mean(torch.nn.functional.softplus(pos_scores - neg_scores))\n",
        "  loss = bpr_loss + reg_loss\n",
        "\n",
        "  return loss"
      ],
      "metadata": {
        "id": "z0-M5gSTub3W"
      },
      "execution_count": null,
      "outputs": []
    },
    {
      "cell_type": "code",
      "source": [
        "def get_user_positive_items(edge_index):\n",
        "  user_pos_items={}\n",
        "\n",
        "  for i in range(edge_index.shape[1]):\n",
        "    user=edge_index[0][i].item()\n",
        "    item=edge_index[1][i].item()\n",
        "\n",
        "    if user not in user_pos_items:\n",
        "      user_pos_items[user]=[]\n",
        "    user_pos_items[user].append(item)\n",
        "  return user_pos_items"
      ],
      "metadata": {
        "id": "hYECVigmeSp-"
      },
      "execution_count": null,
      "outputs": []
    },
    {
      "cell_type": "code",
      "source": [
        "def RecallPrecision_ATk(groundTruth,r,k):\n",
        "  num_correct_pred=torch.sum(r,dim=-1)\n",
        "  user_num_liked=torch.Tensor([len(groundTruth[i]) for i in range(len(groundTruth))])\n",
        "  recall=torch.mean(num_correct_pred/user_num_liked)\n",
        "  precision=torch.mean(num_correct_pred)/k\n",
        "  return recall.item(),precision.item()"
      ],
      "metadata": {
        "id": "CwFNUrh1em2P"
      },
      "execution_count": null,
      "outputs": []
    },
    {
      "cell_type": "code",
      "source": [
        "def NDCGatK_r(groundTruth,r,k):\n",
        "  assert len(r)==len(groundTruth)\n",
        "\n",
        "  test_matrix=torch.zeros((len(r),k))\n",
        "\n",
        "  for i,items in enumerate(groundTruth):\n",
        "    length=min(len(items),k)\n",
        "    test_matrix[i,:length]=1\n",
        "\n",
        "  max_r=test_matrix\n",
        "  idcg=torch.sum(max_r*1./torch.log2(torch.arange(2,k+2)),axis=1)\n",
        "  dcg=r*(1./torch.log2(torch.arange(2,k+2)))\n",
        "  dcg=torch.sum(dcg,axis=1)\n",
        "  idcg[idcg==0.]=1.\n",
        "  ndcg=dcg/idcg\n",
        "  ndcg[torch.isnan(ndcg)]=0.\n",
        "  return torch.mean(ndcg).item()"
      ],
      "metadata": {
        "id": "GKj5AtMgfF7V"
      },
      "execution_count": null,
      "outputs": []
    },
    {
      "cell_type": "code",
      "source": [
        "def get_metrics(model,\n",
        "                input_edge_index,\n",
        "                input_exclude_edge_indices,\n",
        "                k):\n",
        "  user_embedding=model.users_emb.weight\n",
        "  item_embedding=model.items_emb.weight\n",
        "\n",
        "  edge_index=convert_adj_mat_edge_index_to_r_mat_edge_index(input_edge_index)\n",
        "\n",
        "  exclude_edge_indices=[convert_adj_mat_edge_index_to_r_mat_edge_index(exclude_edge_index) \\\n",
        "                        for exclude_edge_index in input_exclude_edge_indices]\n",
        "\n",
        "  r_mat_rating=torch.matmul(user_embedding,item_embedding.T)\n",
        "  rating=r_mat_rating\n",
        "  for exclude_edge_index in exclude_edge_indices:\n",
        "    user_pos_items=get_user_positive_items(exclude_edge_index)\n",
        "\n",
        "    exclude_users=[]\n",
        "    exclude_items=[]\n",
        "\n",
        "    for user,items in user_pos_items.items():\n",
        "      exclude_users.extend([user]*len(items))\n",
        "      exclude_items.extend(items)\n",
        "\n",
        "    rating[exclude_users,exclude_items]=-(1<<10)\n",
        "\n",
        "  _,top_K_items=torch.topk(rating,k=k)\n",
        "  users=edge_index[0].unique()\n",
        "  test_user_pos_items=get_user_positive_items(edge_index)\n",
        "\n",
        "  test_user_pos_items_list=[test_user_pos_items[user.item()] for user in users]\n",
        "\n",
        "  r=[]\n",
        "  for user in users:\n",
        "    user_true_relevant_item=test_user_pos_items[user.item()]\n",
        "    label=list(map(lambda x:x in user_true_relevant_item,top_K_items[user]))\n",
        "    r.append(label)\n",
        "\n",
        "  r=torch.Tensor(np.array(r).astype('float'))\n",
        "  recall,precision=RecallPrecision_ATk(test_user_pos_items_list,r,k)\n",
        "  ndcg=NDCGatK_r(test_user_pos_items_list,r,k)\n",
        "  return recall,precision,ndcg"
      ],
      "metadata": {
        "id": "V5vRtXUHhqq9"
      },
      "execution_count": null,
      "outputs": []
    },
    {
      "cell_type": "code",
      "source": [
        "def evaluation(model,\n",
        "               edge_index,\n",
        "               exclude_edge_indices,\n",
        "               k,\n",
        "               lambda_val\n",
        "               ):\n",
        "  users_emb_final,users_emb_0,items_emb_final,items_emb_0=model.forward(edge_index)\n",
        "\n",
        "  r_mat_edge_index=convert_adj_mat_edge_index_to_r_mat_edge_index(edge_index)\n",
        "\n",
        "  edges=structured_negative_sampling(r_mat_edge_index,contains_neg_self_loops=False)\n",
        "\n",
        "  user_indices,pos_item_indices,neg_item_indices=edges[0],edges[1],edges[2]\n",
        "\n",
        "  users_emb_final,users_emb_0=users_emb_final[user_indices],users_emb_0[user_indices]\n",
        "\n",
        "  pos_items_emb_final,pos_items_emb_0=items_emb_final[pos_item_indices],items_emb_0[pos_item_indices]\n",
        "\n",
        "  neg_items_emb_final,neg_items_emb_0=items_emb_final[neg_item_indices],items_emb_0[neg_item_indices]\n",
        "\n",
        "  loss=bpr_loss(users_emb_final,\n",
        "                users_emb_0,\n",
        "                pos_items_emb_final,\n",
        "                pos_items_emb_0,\n",
        "                neg_items_emb_final,\n",
        "                neg_items_emb_0,\n",
        "                lambda_val).item()\n",
        "\n",
        "  recall,precision,ndcg=get_metrics(model,\n",
        "                                    edge_index,\n",
        "                                    exclude_edge_indices,\n",
        "                                    k)\n",
        "  return loss,recall,precision,ndcg"
      ],
      "metadata": {
        "id": "-HR7x6ndmh_k"
      },
      "execution_count": null,
      "outputs": []
    },
    {
      "cell_type": "code",
      "source": [
        "ITERATIONS=10000\n",
        "EPOCHS=10\n",
        "BATCH_SIZE=1024\n",
        "LR=1E-3\n",
        "ITERS_PER_EVAL=200\n",
        "ITERS_PER_LR_DECAY=200\n",
        "K=20\n",
        "LAMBDA=1e-6"
      ],
      "metadata": {
        "id": "ZCdjcnBtscp5"
      },
      "execution_count": null,
      "outputs": []
    },
    {
      "cell_type": "code",
      "source": [
        "device=torch.device('cuda' if torch.cuda.is_available() else 'cpu')\n",
        "print(f\"Using device {device}.\")\n",
        "model=model.to(device)\n",
        "model.train()\n",
        "optimizer=optim.Adam(model.parameters(),lr=LR)\n",
        "scheduler=optim.lr_scheduler.ExponentialLR(optimizer,gamma=0.95)\n",
        "edge_index=edge_index.to(device)\n",
        "train_edge_index=train_edge_index.to(device)\n",
        "val_edge_index=val_edge_index.to(device)"
      ],
      "metadata": {
        "colab": {
          "base_uri": "https://localhost:8080/"
        },
        "id": "0ISeB-zZve8w",
        "outputId": "31bc43b6-10be-4da6-a595-9f52dc3e2dbb"
      },
      "execution_count": null,
      "outputs": [
        {
          "output_type": "stream",
          "name": "stdout",
          "text": [
            "Using device cpu.\n"
          ]
        }
      ]
    },
    {
      "cell_type": "code",
      "source": [
        "from operator import pos\n",
        "def get_embs_for_bpr(model,input_edge_index):\n",
        "  users_emb_final,users_emb_0,items_emb_final,items_emb_0=model.forward(input_edge_index)\n",
        "\n",
        "  edge_index_to_use=convert_adj_mat_edge_index_to_r_mat_edge_index(input_edge_index)\n",
        "\n",
        "  user_indices,pos_item_indices,neg_item_indices=sample_mini_batch(BATCH_SIZE,edge_index_to_use)\n",
        "\n",
        "  user_indices, pos_item_indices, neg_item_indices = user_indices.to(device), pos_item_indices.to(device), neg_item_indices.to(device)\n",
        "\n",
        "  users_emb_final,users_emb_0=users_emb_final[user_indices],users_emb_0[user_indices]\n",
        "  pos_items_emb_final,pos_items_emb_0=items_emb_final[pos_item_indices],items_emb_0[pos_item_indices]\n",
        "  neg_items_emb_final,neg_items_emb_0=items_emb_final[neg_item_indices],items_emb_0[neg_item_indices]\n",
        "\n",
        "  return users_emb_final,users_emb_0,pos_items_emb_final,pos_items_emb_0,neg_items_emb_final,neg_items_emb_0"
      ],
      "metadata": {
        "id": "T2G_6pO1vs_D"
      },
      "execution_count": null,
      "outputs": []
    },
    {
      "cell_type": "code",
      "source": [
        "train_losses=[]\n",
        "val_losses=[]\n",
        "val_recall_at_ks=[]\n",
        "\n",
        "for iter in tqdm(range(ITERATIONS)):\n",
        "  users_emb_final,users_emb_0,pos_items_emb_final,pos_items_emb_0,neg_items_emb_final,neg_items_emb_0 \\\n",
        "  =get_embs_for_bpr(model,train_edge_index)\n",
        "\n",
        "  train_loss=bpr_loss(users_emb_final,\n",
        "                      users_emb_0,\n",
        "                      pos_items_emb_final,\n",
        "                      pos_items_emb_0,\n",
        "                      neg_items_emb_final,\n",
        "                      neg_items_emb_0,\n",
        "                      LAMBDA)\n",
        "\n",
        "  optimizer.zero_grad()\n",
        "  train_loss.backward()\n",
        "  optimizer.step()\n",
        "\n",
        "  if iter % ITERS_PER_EVAL==0:\n",
        "    model.eval()\n",
        "\n",
        "    with torch.no_grad():\n",
        "      val_loss, recall, precision, ndcg = evaluation(model,\n",
        "                                                     val_edge_index,\n",
        "                                                     [train_edge_index],\n",
        "                                                     K,\n",
        "                                                     LAMBDA)\n",
        "\n",
        "      #print(train_loss)\n",
        "\n",
        "\n",
        "      #print(f\"[Iteration {iter}/{ITERATIONS}] train_loss: {round(train_loss.item(),5)} val_loss: {round(val_loss.item(),5)} recall: {round(recall.item(),5)} precision: {round(precision.item(),5)} ndcg: {round(ndcg.item(),5)}\")\n",
        "\n",
        "      #train_losses.append(train_loss.item())\n",
        "      #val_losses.append(val_loss.item())\n",
        "      #val_recall_at_ks.append(round(recall,5))\n",
        "\n",
        "      print(f\"[Iteration {iter}/{ITERATIONS}] train_loss: {round(train_loss.item(), 5)}, val_loss: {round(val_loss, 5)}, recall: {round(recall,5)}, precision: {round(precision,5)}, ndcg: {round(ndcg,5)}\")\n",
        "      train_losses.append(train_loss.item())\n",
        "      val_losses.append(val_loss)\n",
        "      val_recall_at_ks.append(round(recall,5))\n",
        "    model.train()\n",
        "    #model.train()\n",
        "\n",
        "  if iter % ITERS_PER_LR_DECAY==0 and iter!=0:\n",
        "    scheduler.step()"
      ],
      "metadata": {
        "colab": {
          "base_uri": "https://localhost:8080/",
          "height": 1000,
          "referenced_widgets": [
            "a7fef412c6e345d2a98f82e7816592e2",
            "e42f2a111d3f4a689ba6284510422c99",
            "9c2010ecf50e4962b66997aba87f1ae6",
            "e7cf66753305487f896680622119ad96",
            "0273ca15a77b403191171b86a137aed2",
            "abc6a13dca5a4a9691187cc51e27f87d",
            "3585c24c957d4cd8ba36765c9b6f78ea",
            "37709819060f4c77b469fcdb8c06b0e7",
            "2b0c475fe2fb418eb4e287cfee5237fe",
            "49ba0f779ce14c1a8fa556151e1a9d09",
            "ca0f1ae555a5465985df5c6d124f6b3b"
          ]
        },
        "id": "KgH69LLbwrM3",
        "outputId": "2db8851d-d52b-4f1a-c8b0-b87afb35dcdc"
      },
      "execution_count": null,
      "outputs": [
        {
          "output_type": "display_data",
          "data": {
            "text/plain": [
              "  0%|          | 0/10000 [00:00<?, ?it/s]"
            ],
            "application/vnd.jupyter.widget-view+json": {
              "version_major": 2,
              "version_minor": 0,
              "model_id": "a7fef412c6e345d2a98f82e7816592e2"
            }
          },
          "metadata": {}
        },
        {
          "output_type": "stream",
          "name": "stdout",
          "text": [
            "tensor(-0.6934, grad_fn=<AddBackward0>)\n",
            "[Iteration 0/10000] train_loss: -0.69339, val_loss: -0.6995, recall: 0.00099, precision: 0.00081, ndcg: 0.00111\n",
            "tensor(-7.2991, grad_fn=<AddBackward0>)\n",
            "[Iteration 200/10000] train_loss: -7.29911, val_loss: -5.20201, recall: 0.07194, precision: 0.02622, ndcg: 0.05078\n",
            "tensor(-29.5590, grad_fn=<AddBackward0>)\n",
            "[Iteration 400/10000] train_loss: -29.55896, val_loss: -21.35193, recall: 0.09944, precision: 0.03382, ndcg: 0.07029\n",
            "tensor(-62.6612, grad_fn=<AddBackward0>)\n",
            "[Iteration 600/10000] train_loss: -62.66124, val_loss: -44.98411, recall: 0.10868, precision: 0.0358, ndcg: 0.08156\n",
            "tensor(-102.9940, grad_fn=<AddBackward0>)\n",
            "[Iteration 800/10000] train_loss: -102.99401, val_loss: -74.40485, recall: 0.11136, precision: 0.03671, ndcg: 0.0798\n",
            "tensor(-150.8683, grad_fn=<AddBackward0>)\n",
            "[Iteration 1000/10000] train_loss: -150.86832, val_loss: -107.43338, recall: 0.11609, precision: 0.0387, ndcg: 0.08529\n",
            "tensor(-192.0593, grad_fn=<AddBackward0>)\n",
            "[Iteration 1200/10000] train_loss: -192.05934, val_loss: -144.98683, recall: 0.12249, precision: 0.03969, ndcg: 0.09153\n",
            "tensor(-250.1002, grad_fn=<AddBackward0>)\n",
            "[Iteration 1400/10000] train_loss: -250.10022, val_loss: -183.42445, recall: 0.12461, precision: 0.0406, ndcg: 0.09179\n",
            "tensor(-308.8773, grad_fn=<AddBackward0>)\n",
            "[Iteration 1600/10000] train_loss: -308.87732, val_loss: -222.88812, recall: 0.13578, precision: 0.04331, ndcg: 0.09717\n",
            "tensor(-360.3401, grad_fn=<AddBackward0>)\n",
            "[Iteration 1800/10000] train_loss: -360.34006, val_loss: -265.54578, recall: 0.13786, precision: 0.04349, ndcg: 0.09794\n",
            "tensor(-426.9498, grad_fn=<AddBackward0>)\n",
            "[Iteration 2000/10000] train_loss: -426.94977, val_loss: -307.72269, recall: 0.13831, precision: 0.04313, ndcg: 0.09915\n",
            "tensor(-478.7785, grad_fn=<AddBackward0>)\n",
            "[Iteration 2200/10000] train_loss: -478.7785, val_loss: -343.3111, recall: 0.13965, precision: 0.04376, ndcg: 0.09875\n",
            "tensor(-529.1805, grad_fn=<AddBackward0>)\n",
            "[Iteration 2400/10000] train_loss: -529.18048, val_loss: -386.0773, recall: 0.13606, precision: 0.04313, ndcg: 0.09576\n",
            "tensor(-577.8134, grad_fn=<AddBackward0>)\n",
            "[Iteration 2600/10000] train_loss: -577.81335, val_loss: -424.14713, recall: 0.13785, precision: 0.04403, ndcg: 0.10065\n",
            "tensor(-648.2395, grad_fn=<AddBackward0>)\n",
            "[Iteration 2800/10000] train_loss: -648.2395, val_loss: -467.93375, recall: 0.13735, precision: 0.04403, ndcg: 0.10081\n",
            "tensor(-664.7244, grad_fn=<AddBackward0>)\n",
            "[Iteration 3000/10000] train_loss: -664.72443, val_loss: -504.09369, recall: 0.14023, precision: 0.04458, ndcg: 0.10295\n",
            "tensor(-753.7331, grad_fn=<AddBackward0>)\n",
            "[Iteration 3200/10000] train_loss: -753.73309, val_loss: -540.84613, recall: 0.13954, precision: 0.04494, ndcg: 0.10244\n",
            "tensor(-813.5217, grad_fn=<AddBackward0>)\n",
            "[Iteration 3400/10000] train_loss: -813.52173, val_loss: -579.85052, recall: 0.14152, precision: 0.04548, ndcg: 0.10321\n",
            "tensor(-835.5499, grad_fn=<AddBackward0>)\n",
            "[Iteration 3600/10000] train_loss: -835.54993, val_loss: -605.31665, recall: 0.14344, precision: 0.0462, ndcg: 0.10405\n",
            "tensor(-888.6785, grad_fn=<AddBackward0>)\n",
            "[Iteration 3800/10000] train_loss: -888.67847, val_loss: -643.32593, recall: 0.14285, precision: 0.04602, ndcg: 0.104\n",
            "tensor(-966.7478, grad_fn=<AddBackward0>)\n",
            "[Iteration 4000/10000] train_loss: -966.7478, val_loss: -674.99579, recall: 0.14257, precision: 0.04566, ndcg: 0.10404\n",
            "tensor(-967.8729, grad_fn=<AddBackward0>)\n",
            "[Iteration 4200/10000] train_loss: -967.87292, val_loss: -710.76532, recall: 0.14394, precision: 0.0462, ndcg: 0.10481\n",
            "tensor(-1058.1002, grad_fn=<AddBackward0>)\n",
            "[Iteration 4400/10000] train_loss: -1058.10022, val_loss: -742.04468, recall: 0.1414, precision: 0.04575, ndcg: 0.10381\n",
            "tensor(-1106.8538, grad_fn=<AddBackward0>)\n",
            "[Iteration 4600/10000] train_loss: -1106.85376, val_loss: -768.36603, recall: 0.1423, precision: 0.04566, ndcg: 0.10416\n",
            "tensor(-1109.0573, grad_fn=<AddBackward0>)\n",
            "[Iteration 4800/10000] train_loss: -1109.05725, val_loss: -801.5777, recall: 0.14268, precision: 0.04548, ndcg: 0.10427\n",
            "tensor(-1190.5997, grad_fn=<AddBackward0>)\n",
            "[Iteration 5000/10000] train_loss: -1190.59973, val_loss: -823.18579, recall: 0.14387, precision: 0.04566, ndcg: 0.10456\n",
            "tensor(-1196.0739, grad_fn=<AddBackward0>)\n",
            "[Iteration 5200/10000] train_loss: -1196.07385, val_loss: -850.11456, recall: 0.14449, precision: 0.04593, ndcg: 0.10497\n",
            "tensor(-1198.1096, grad_fn=<AddBackward0>)\n",
            "[Iteration 5400/10000] train_loss: -1198.10962, val_loss: -879.6095, recall: 0.14327, precision: 0.04566, ndcg: 0.10449\n",
            "tensor(-1251.3707, grad_fn=<AddBackward0>)\n",
            "[Iteration 5600/10000] train_loss: -1251.37073, val_loss: -896.45135, recall: 0.14402, precision: 0.04584, ndcg: 0.10471\n",
            "tensor(-1301.0530, grad_fn=<AddBackward0>)\n",
            "[Iteration 5800/10000] train_loss: -1301.05298, val_loss: -918.29926, recall: 0.14311, precision: 0.04566, ndcg: 0.10451\n",
            "tensor(-1350.2476, grad_fn=<AddBackward0>)\n",
            "[Iteration 6000/10000] train_loss: -1350.24756, val_loss: -950.19482, recall: 0.14474, precision: 0.04602, ndcg: 0.10516\n",
            "tensor(-1320.8903, grad_fn=<AddBackward0>)\n",
            "[Iteration 6200/10000] train_loss: -1320.89026, val_loss: -975.98309, recall: 0.14485, precision: 0.04602, ndcg: 0.10515\n",
            "tensor(-1337.7434, grad_fn=<AddBackward0>)\n",
            "[Iteration 6400/10000] train_loss: -1337.74341, val_loss: -987.56219, recall: 0.14442, precision: 0.0462, ndcg: 0.10511\n",
            "tensor(-1449.4832, grad_fn=<AddBackward0>)\n",
            "[Iteration 6600/10000] train_loss: -1449.48315, val_loss: -1002.4306, recall: 0.14441, precision: 0.04611, ndcg: 0.10508\n",
            "tensor(-1403.9576, grad_fn=<AddBackward0>)\n",
            "[Iteration 6800/10000] train_loss: -1403.95764, val_loss: -1017.75476, recall: 0.14368, precision: 0.04593, ndcg: 0.10563\n",
            "tensor(-1469.4590, grad_fn=<AddBackward0>)\n",
            "[Iteration 7000/10000] train_loss: -1469.45898, val_loss: -1028.823, recall: 0.14402, precision: 0.04611, ndcg: 0.10587\n",
            "tensor(-1395.7026, grad_fn=<AddBackward0>)\n",
            "[Iteration 7200/10000] train_loss: -1395.70264, val_loss: -1051.21802, recall: 0.14436, precision: 0.04611, ndcg: 0.10599\n",
            "tensor(-1479.6643, grad_fn=<AddBackward0>)\n",
            "[Iteration 7400/10000] train_loss: -1479.66431, val_loss: -1062.12317, recall: 0.145, precision: 0.04593, ndcg: 0.10602\n",
            "tensor(-1507.9135, grad_fn=<AddBackward0>)\n",
            "[Iteration 7600/10000] train_loss: -1507.91345, val_loss: -1096.35474, recall: 0.14509, precision: 0.04602, ndcg: 0.10626\n",
            "tensor(-1422.7118, grad_fn=<AddBackward0>)\n",
            "[Iteration 7800/10000] train_loss: -1422.71179, val_loss: -1088.56519, recall: 0.1444, precision: 0.04575, ndcg: 0.10574\n",
            "tensor(-1575.6587, grad_fn=<AddBackward0>)\n",
            "[Iteration 8000/10000] train_loss: -1575.65869, val_loss: -1120.25403, recall: 0.14429, precision: 0.04566, ndcg: 0.10571\n",
            "tensor(-1511.1971, grad_fn=<AddBackward0>)\n",
            "[Iteration 8200/10000] train_loss: -1511.19714, val_loss: -1124.76575, recall: 0.14535, precision: 0.04593, ndcg: 0.10609\n",
            "tensor(-1583.1469, grad_fn=<AddBackward0>)\n",
            "[Iteration 8400/10000] train_loss: -1583.14685, val_loss: -1136.62012, recall: 0.14555, precision: 0.04602, ndcg: 0.10623\n",
            "tensor(-1615.3307, grad_fn=<AddBackward0>)\n",
            "[Iteration 8600/10000] train_loss: -1615.33069, val_loss: -1138.77686, recall: 0.14555, precision: 0.04602, ndcg: 0.10636\n",
            "tensor(-1640.2048, grad_fn=<AddBackward0>)\n",
            "[Iteration 8800/10000] train_loss: -1640.20483, val_loss: -1150.47742, recall: 0.14526, precision: 0.04593, ndcg: 0.10631\n",
            "tensor(-1629.8583, grad_fn=<AddBackward0>)\n",
            "[Iteration 9000/10000] train_loss: -1629.85828, val_loss: -1172.36707, recall: 0.14562, precision: 0.04611, ndcg: 0.10649\n",
            "tensor(-1594.9866, grad_fn=<AddBackward0>)\n",
            "[Iteration 9200/10000] train_loss: -1594.98657, val_loss: -1176.21411, recall: 0.14514, precision: 0.04593, ndcg: 0.10627\n",
            "tensor(-1635.0828, grad_fn=<AddBackward0>)\n",
            "[Iteration 9400/10000] train_loss: -1635.08276, val_loss: -1189.38318, recall: 0.14425, precision: 0.04584, ndcg: 0.10598\n",
            "tensor(-1649.0598, grad_fn=<AddBackward0>)\n",
            "[Iteration 9600/10000] train_loss: -1649.05981, val_loss: -1197.70142, recall: 0.14444, precision: 0.04593, ndcg: 0.10598\n",
            "tensor(-1632.1925, grad_fn=<AddBackward0>)\n",
            "[Iteration 9800/10000] train_loss: -1632.1925, val_loss: -1195.46912, recall: 0.14506, precision: 0.04584, ndcg: 0.10608\n"
          ]
        }
      ]
    },
    {
      "cell_type": "code",
      "source": [
        "iters=[iter*ITERS_PER_EVAL for iter in range(len(train_losses))]\n",
        "plt.plot(iters,train_losses,label=\"train\")\n",
        "plt.plot(iters,val_losses,label=\"validation\")\n",
        "plt.xlabel(\"Iterations\")\n",
        "plt.ylabel(\"Loss\")\n",
        "plt.title('Training And Validation Loss Curves')\n",
        "plt.legend()\n",
        "plt.show()"
      ],
      "metadata": {
        "colab": {
          "base_uri": "https://localhost:8080/",
          "height": 472
        },
        "id": "plfBOCMTqz8y",
        "outputId": "ebb32ab1-6684-4623-9931-da824ff0d6f2"
      },
      "execution_count": null,
      "outputs": [
        {
          "output_type": "display_data",
          "data": {
            "text/plain": [
              "<Figure size 640x480 with 1 Axes>"
            ],
            "image/png": "[encoded data removed]"
          },
          "metadata": {}
        }
      ]
    },
    {
      "cell_type": "code",
      "source": [
        "f2=plt.figure()\n",
        "plt.plot(iters,val_recall_at_ks,label=\"recall_at_k\")\n",
        "plt.xlabel(\"Iterations\")\n",
        "plt.ylabel(\"Recall_At_k\")\n",
        "plt.title('Recall_At_k_Curves')\n",
        "plt.show()"
      ],
      "metadata": {
        "colab": {
          "base_uri": "https://localhost:8080/",
          "height": 472
        },
        "id": "q35pWXfmr8oW",
        "outputId": "ac0d4561-771d-4a20-9bd2-ff11cc9eed79"
      },
      "execution_count": null,
      "outputs": [
        {
          "output_type": "display_data",
          "data": {
            "text/plain": [
              "<Figure size 640x480 with 1 Axes>"
            ],
            "image/png": "[encoded data removed]"
          },
          "metadata": {}
        }
      ]
    },
    {
      "cell_type": "code",
      "source": [
        "def evaluation(model,\n",
        "               edge_index,\n",
        "               exclude_edge_indices,\n",
        "               k,\n",
        "               lambda_val\n",
        "               ):\n",
        "  users_emb_final,users_emb_0,items_emb_final,items_emb_0=model.forward(edge_index)\n",
        "  r_mat_edge_index=convert_adj_mat_edge_index_to_r_mat_edge_index(edge_index)\n",
        "  edges=structured_negative_sampling(r_mat_edge_index,contains_neg_self_loops=False)\n",
        "  user_indices,pos_item_indices,neg_item_indices=edges[0],edges[1],edges[2]\n",
        "  users_emb_final,users_emb_0=users_emb_final[user_indices],users_emb_0[user_indices]\n",
        "  pos_items_emb_final,pos_items_emb_0=items_emb_final[pos_item_indices],items_emb_0[pos_item_indices]\n",
        "  neg_items_emb_final,neg_items_emb_0=items_emb_final[neg_item_indices],items_emb_0[neg_item_indices]\n",
        "  loss=bpr_loss(users_emb_final,\n",
        "                users_emb_0,\n",
        "                pos_items_emb_final,\n",
        "                pos_items_emb_0,\n",
        "                neg_items_emb_final,\n",
        "                neg_items_emb_0,\n",
        "                lambda_val).item()\n",
        "\n",
        "  recall,precision,ndcg=get_metrics(model,\n",
        "                                    edge_index,\n",
        "                                    exclude_edge_indices,\n",
        "                                    k)\n",
        "  # Convert recall, precision, and ndcg to single-element tensors before calling .item()\n",
        "  return loss, recall, precision, ndcg"
      ],
      "metadata": {
        "id": "OybBMVcBEutP"
      },
      "execution_count": null,
      "outputs": []
    },
    {
      "cell_type": "code",
      "source": [
        "model.eval()\n",
        "test_loss, test_recall, test_precision, test_ndcg = evaluation(model,\n",
        "                                                               test_edge_index,\n",
        "                                                               [train_edge_index, val_edge_index],\n",
        "                                                               K,\n",
        "                                                               LAMBDA)\n",
        "print(f\"[test_loss: {round(test_loss,5)}, test_recall@{K}: {round(test_recall,5)}, test_precision@{K}: {round(test_precision,5)}, test_ndcg@{K}: {round(test_ndcg,5)}]\")"
      ],
      "metadata": {
        "id": "IaA4RDGeyTI0",
        "colab": {
          "base_uri": "https://localhost:8080/"
        },
        "outputId": "dd4bfeb4-862a-46a1-eec1-c1754b7b8285"
      },
      "execution_count": null,
      "outputs": [
        {
          "output_type": "stream",
          "name": "stdout",
          "text": [
            "[test_loss: -1208.17151, test_recall@20: 0.12827, test_precision@20: 0.04493, test_ndcg@20: 0.09923]\n"
          ]
        }
      ]
    },
    {
      "cell_type": "code",
      "source": [],
      "metadata": {
        "id": "TTIppeX13mxd"
      },
      "execution_count": null,
      "outputs": []
    }
  ]
}