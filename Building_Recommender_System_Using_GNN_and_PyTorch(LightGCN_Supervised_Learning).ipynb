{
  "nbformat": 4,
  "nbformat_minor": 0,
  "metadata": {
    "colab": {
      "provenance": [],
      "authorship_tag": "ABX9TyPxvmgmCg4espCgBkSgvm7S",
      "include_colab_link": true
    },
    "kernelspec": {
      "name": "python3",
      "display_name": "Python 3"
    },
    "language_info": {
      "name": "python"
    },
    "widgets": {
      "application/vnd.jupyter.widget-state+json": {
        "9cb4200c79624db8b8a3118f93a27b11": {
          "model_module": "@jupyter-widgets/controls",
          "model_name": "HBoxModel",
          "model_module_version": "1.5.0",
          "state": {
            "_dom_classes": [],
            "_model_module": "@jupyter-widgets/controls",
            "_model_module_version": "1.5.0",
            "_model_name": "HBoxModel",
            "_view_count": null,
            "_view_module": "@jupyter-widgets/controls",
            "_view_module_version": "1.5.0",
            "_view_name": "HBoxView",
            "box_style": "",
            "children": [
              "IPY_MODEL_9646f913acfe4fcdb5c5acf582affc3d",
              "IPY_MODEL_2159caec4c7143009e6b0896525e0509",
              "IPY_MODEL_de5fb14614b7492ab9b4687b88a30619"
            ],
            "layout": "IPY_MODEL_aab05ffdd60345f1a4af2334c3122e79"
          }
        },
        "9646f913acfe4fcdb5c5acf582affc3d": {
          "model_module": "@jupyter-widgets/controls",
          "model_name": "HTMLModel",
          "model_module_version": "1.5.0",
          "state": {
            "_dom_classes": [],
            "_model_module": "@jupyter-widgets/controls",
            "_model_module_version": "1.5.0",
            "_model_name": "HTMLModel",
            "_view_count": null,
            "_view_module": "@jupyter-widgets/controls",
            "_view_module_version": "1.5.0",
            "_view_name": "HTMLView",
            "description": "",
            "description_tooltip": null,
            "layout": "IPY_MODEL_b9c0e40b5a254a0f9eb54352af54486f",
            "placeholder": "​",
            "style": "IPY_MODEL_8ad9fa54bbdf490c9a169f2ae29b7da8",
            "value": "100%"
          }
        },
        "2159caec4c7143009e6b0896525e0509": {
          "model_module": "@jupyter-widgets/controls",
          "model_name": "FloatProgressModel",
          "model_module_version": "1.5.0",
          "state": {
            "_dom_classes": [],
            "_model_module": "@jupyter-widgets/controls",
            "_model_module_version": "1.5.0",
            "_model_name": "FloatProgressModel",
            "_view_count": null,
            "_view_module": "@jupyter-widgets/controls",
            "_view_module_version": "1.5.0",
            "_view_name": "ProgressView",
            "bar_style": "success",
            "description": "",
            "description_tooltip": null,
            "layout": "IPY_MODEL_4b5093fc77a347d1a88d3c50f8b29151",
            "max": 10000,
            "min": 0,
            "orientation": "horizontal",
            "style": "IPY_MODEL_78d71601e4a842ca90ece3ccea9ac1a8",
            "value": 10000
          }
        },
        "de5fb14614b7492ab9b4687b88a30619": {
          "model_module": "@jupyter-widgets/controls",
          "model_name": "HTMLModel",
          "model_module_version": "1.5.0",
          "state": {
            "_dom_classes": [],
            "_model_module": "@jupyter-widgets/controls",
            "_model_module_version": "1.5.0",
            "_model_name": "HTMLModel",
            "_view_count": null,
            "_view_module": "@jupyter-widgets/controls",
            "_view_module_version": "1.5.0",
            "_view_name": "HTMLView",
            "description": "",
            "description_tooltip": null,
            "layout": "IPY_MODEL_22f82896f98d48f0975427f2f1c54a00",
            "placeholder": "​",
            "style": "IPY_MODEL_7d720c99957d4f6bbd89fc7e69409c3b",
            "value": " 10000/10000 [1:01:18&lt;00:00,  2.77it/s]"
          }
        },
        "aab05ffdd60345f1a4af2334c3122e79": {
          "model_module": "@jupyter-widgets/base",
          "model_name": "LayoutModel",
          "model_module_version": "1.2.0",
          "state": {
            "_model_module": "@jupyter-widgets/base",
            "_model_module_version": "1.2.0",
            "_model_name": "LayoutModel",
            "_view_count": null,
            "_view_module": "@jupyter-widgets/base",
            "_view_module_version": "1.2.0",
            "_view_name": "LayoutView",
            "align_content": null,
            "align_items": null,
            "align_self": null,
            "border": null,
            "bottom": null,
            "display": null,
            "flex": null,
            "flex_flow": null,
            "grid_area": null,
            "grid_auto_columns": null,
            "grid_auto_flow": null,
            "grid_auto_rows": null,
            "grid_column": null,
            "grid_gap": null,
            "grid_row": null,
            "grid_template_areas": null,
            "grid_template_columns": null,
            "grid_template_rows": null,
            "height": null,
            "justify_content": null,
            "justify_items": null,
            "left": null,
            "margin": null,
            "max_height": null,
            "max_width": null,
            "min_height": null,
            "min_width": null,
            "object_fit": null,
            "object_position": null,
            "order": null,
            "overflow": null,
            "overflow_x": null,
            "overflow_y": null,
            "padding": null,
            "right": null,
            "top": null,
            "visibility": null,
            "width": null
          }
        },
        "b9c0e40b5a254a0f9eb54352af54486f": {
          "model_module": "@jupyter-widgets/base",
          "model_name": "LayoutModel",
          "model_module_version": "1.2.0",
          "state": {
            "_model_module": "@jupyter-widgets/base",
            "_model_module_version": "1.2.0",
            "_model_name": "LayoutModel",
            "_view_count": null,
            "_view_module": "@jupyter-widgets/base",
            "_view_module_version": "1.2.0",
            "_view_name": "LayoutView",
            "align_content": null,
            "align_items": null,
            "align_self": null,
            "border": null,
            "bottom": null,
            "display": null,
            "flex": null,
            "flex_flow": null,
            "grid_area": null,
            "grid_auto_columns": null,
            "grid_auto_flow": null,
            "grid_auto_rows": null,
            "grid_column": null,
            "grid_gap": null,
            "grid_row": null,
            "grid_template_areas": null,
            "grid_template_columns": null,
            "grid_template_rows": null,
            "height": null,
            "justify_content": null,
            "justify_items": null,
            "left": null,
            "margin": null,
            "max_height": null,
            "max_width": null,
            "min_height": null,
            "min_width": null,
            "object_fit": null,
            "object_position": null,
            "order": null,
            "overflow": null,
            "overflow_x": null,
            "overflow_y": null,
            "padding": null,
            "right": null,
            "top": null,
            "visibility": null,
            "width": null
          }
        },
        "8ad9fa54bbdf490c9a169f2ae29b7da8": {
          "model_module": "@jupyter-widgets/controls",
          "model_name": "DescriptionStyleModel",
          "model_module_version": "1.5.0",
          "state": {
            "_model_module": "@jupyter-widgets/controls",
            "_model_module_version": "1.5.0",
            "_model_name": "DescriptionStyleModel",
            "_view_count": null,
            "_view_module": "@jupyter-widgets/base",
            "_view_module_version": "1.2.0",
            "_view_name": "StyleView",
            "description_width": ""
          }
        },
        "4b5093fc77a347d1a88d3c50f8b29151": {
          "model_module": "@jupyter-widgets/base",
          "model_name": "LayoutModel",
          "model_module_version": "1.2.0",
          "state": {
            "_model_module": "@jupyter-widgets/base",
            "_model_module_version": "1.2.0",
            "_model_name": "LayoutModel",
            "_view_count": null,
            "_view_module": "@jupyter-widgets/base",
            "_view_module_version": "1.2.0",
            "_view_name": "LayoutView",
            "align_content": null,
            "align_items": null,
            "align_self": null,
            "border": null,
            "bottom": null,
            "display": null,
            "flex": null,
            "flex_flow": null,
            "grid_area": null,
            "grid_auto_columns": null,
            "grid_auto_flow": null,
            "grid_auto_rows": null,
            "grid_column": null,
            "grid_gap": null,
            "grid_row": null,
            "grid_template_areas": null,
            "grid_template_columns": null,
            "grid_template_rows": null,
            "height": null,
            "justify_content": null,
            "justify_items": null,
            "left": null,
            "margin": null,
            "max_height": null,
            "max_width": null,
            "min_height": null,
            "min_width": null,
            "object_fit": null,
            "object_position": null,
            "order": null,
            "overflow": null,
            "overflow_x": null,
            "overflow_y": null,
            "padding": null,
            "right": null,
            "top": null,
            "visibility": null,
            "width": null
          }
        },
        "78d71601e4a842ca90ece3ccea9ac1a8": {
          "model_module": "@jupyter-widgets/controls",
          "model_name": "ProgressStyleModel",
          "model_module_version": "1.5.0",
          "state": {
            "_model_module": "@jupyter-widgets/controls",
            "_model_module_version": "1.5.0",
            "_model_name": "ProgressStyleModel",
            "_view_count": null,
            "_view_module": "@jupyter-widgets/base",
            "_view_module_version": "1.2.0",
            "_view_name": "StyleView",
            "bar_color": null,
            "description_width": ""
          }
        },
        "22f82896f98d48f0975427f2f1c54a00": {
          "model_module": "@jupyter-widgets/base",
          "model_name": "LayoutModel",
          "model_module_version": "1.2.0",
          "state": {
            "_model_module": "@jupyter-widgets/base",
            "_model_module_version": "1.2.0",
            "_model_name": "LayoutModel",
            "_view_count": null,
            "_view_module": "@jupyter-widgets/base",
            "_view_module_version": "1.2.0",
            "_view_name": "LayoutView",
            "align_content": null,
            "align_items": null,
            "align_self": null,
            "border": null,
            "bottom": null,
            "display": null,
            "flex": null,
            "flex_flow": null,
            "grid_area": null,
            "grid_auto_columns": null,
            "grid_auto_flow": null,
            "grid_auto_rows": null,
            "grid_column": null,
            "grid_gap": null,
            "grid_row": null,
            "grid_template_areas": null,
            "grid_template_columns": null,
            "grid_template_rows": null,
            "height": null,
            "justify_content": null,
            "justify_items": null,
            "left": null,
            "margin": null,
            "max_height": null,
            "max_width": null,
            "min_height": null,
            "min_width": null,
            "object_fit": null,
            "object_position": null,
            "order": null,
            "overflow": null,
            "overflow_x": null,
            "overflow_y": null,
            "padding": null,
            "right": null,
            "top": null,
            "visibility": null,
            "width": null
          }
        },
        "7d720c99957d4f6bbd89fc7e69409c3b": {
          "model_module": "@jupyter-widgets/controls",
          "model_name": "DescriptionStyleModel",
          "model_module_version": "1.5.0",
          "state": {
            "_model_module": "@jupyter-widgets/controls",
            "_model_module_version": "1.5.0",
            "_model_name": "DescriptionStyleModel",
            "_view_count": null,
            "_view_module": "@jupyter-widgets/base",
            "_view_module_version": "1.2.0",
            "_view_name": "StyleView",
            "description_width": ""
          }
        }
      }
    }
  },
  "cells": [
    {
      "cell_type": "markdown",
      "metadata": {
        "id": "view-in-github",
        "colab_type": "text"
      },
      "source": [
        "<a href=\"https://colab.research.google.com/github/Darkcoder1995/Graph-Neural-Network/blob/main/Building_Recommender_System_Using_GNN_and_PyTorch(LightGCN_Supervised_Learning).ipynb\" target=\"_parent\"><img src=\"https://colab.research.google.com/assets/colab-badge.svg\" alt=\"Open In Colab\"/></a>"
      ]
    },
    {
      "cell_type": "code",
      "source": [
        "!pip install torch-geometric"
      ],
      "metadata": {
        "colab": {
          "base_uri": "https://localhost:8080/"
        },
        "id": "kjTRXBZbL2bW",
        "outputId": "341159a0-6dd0-4e16-84c8-138be87656ec"
      },
      "execution_count": null,
      "outputs": [
        {
          "output_type": "stream",
          "name": "stdout",
          "text": [
            "Collecting torch-geometric\n",
            "  Downloading torch_geometric-2.6.1-py3-none-any.whl.metadata (63 kB)\n",
            "\u001b[?25l     \u001b[90m━━━━━━━━━━━━━━━━━━━━━━━━━━━━━━━━━━━━━━━━\u001b[0m \u001b[32m0.0/63.1 kB\u001b[0m \u001b[31m?\u001b[0m eta \u001b[36m-:--:--\u001b[0m\r\u001b[2K     \u001b[90m━━━━━━━━━━━━━━━━━━━━━━━━━━━━━━━━━━━━━━━━\u001b[0m \u001b[32m63.1/63.1 kB\u001b[0m \u001b[31m3.1 MB/s\u001b[0m eta \u001b[36m0:00:00\u001b[0m\n",
            "\u001b[?25hRequirement already satisfied: aiohttp in /usr/local/lib/python3.11/dist-packages (from torch-geometric) (3.11.15)\n",
            "Requirement already satisfied: fsspec in /usr/local/lib/python3.11/dist-packages (from torch-geometric) (2025.3.2)\n",
            "Requirement already satisfied: jinja2 in /usr/local/lib/python3.11/dist-packages (from torch-geometric) (3.1.6)\n",
            "Requirement already satisfied: numpy in /usr/local/lib/python3.11/dist-packages (from torch-geometric) (2.0.2)\n",
            "Requirement already satisfied: psutil>=5.8.0 in /usr/local/lib/python3.11/dist-packages (from torch-geometric) (5.9.5)\n",
            "Requirement already satisfied: pyparsing in /usr/local/lib/python3.11/dist-packages (from torch-geometric) (3.2.3)\n",
            "Requirement already satisfied: requests in /usr/local/lib/python3.11/dist-packages (from torch-geometric) (2.32.3)\n",
            "Requirement already satisfied: tqdm in /usr/local/lib/python3.11/dist-packages (from torch-geometric) (4.67.1)\n",
            "Requirement already satisfied: aiohappyeyeballs>=2.3.0 in /usr/local/lib/python3.11/dist-packages (from aiohttp->torch-geometric) (2.6.1)\n",
            "Requirement already satisfied: aiosignal>=1.1.2 in /usr/local/lib/python3.11/dist-packages (from aiohttp->torch-geometric) (1.3.2)\n",
            "Requirement already satisfied: attrs>=17.3.0 in /usr/local/lib/python3.11/dist-packages (from aiohttp->torch-geometric) (25.3.0)\n",
            "Requirement already satisfied: frozenlist>=1.1.1 in /usr/local/lib/python3.11/dist-packages (from aiohttp->torch-geometric) (1.6.0)\n",
            "Requirement already satisfied: multidict<7.0,>=4.5 in /usr/local/lib/python3.11/dist-packages (from aiohttp->torch-geometric) (6.4.4)\n",
            "Requirement already satisfied: propcache>=0.2.0 in /usr/local/lib/python3.11/dist-packages (from aiohttp->torch-geometric) (0.3.1)\n",
            "Requirement already satisfied: yarl<2.0,>=1.17.0 in /usr/local/lib/python3.11/dist-packages (from aiohttp->torch-geometric) (1.20.0)\n",
            "Requirement already satisfied: MarkupSafe>=2.0 in /usr/local/lib/python3.11/dist-packages (from jinja2->torch-geometric) (3.0.2)\n",
            "Requirement already satisfied: charset-normalizer<4,>=2 in /usr/local/lib/python3.11/dist-packages (from requests->torch-geometric) (3.4.2)\n",
            "Requirement already satisfied: idna<4,>=2.5 in /usr/local/lib/python3.11/dist-packages (from requests->torch-geometric) (3.10)\n",
            "Requirement already satisfied: urllib3<3,>=1.21.1 in /usr/local/lib/python3.11/dist-packages (from requests->torch-geometric) (2.4.0)\n",
            "Requirement already satisfied: certifi>=2017.4.17 in /usr/local/lib/python3.11/dist-packages (from requests->torch-geometric) (2025.4.26)\n",
            "Downloading torch_geometric-2.6.1-py3-none-any.whl (1.1 MB)\n",
            "\u001b[2K   \u001b[90m━━━━━━━━━━━━━━━━━━━━━━━━━━━━━━━━━━━━━━━━\u001b[0m \u001b[32m1.1/1.1 MB\u001b[0m \u001b[31m17.7 MB/s\u001b[0m eta \u001b[36m0:00:00\u001b[0m\n",
            "\u001b[?25hInstalling collected packages: torch-geometric\n",
            "Successfully installed torch-geometric-2.6.1\n"
          ]
        }
      ]
    },
    {
      "cell_type": "code",
      "source": [
        "!pip install torch_scatter torch_sparse -f https://data.pyg.org/whl/torch-2.6.0+cu124.html"
      ],
      "metadata": {
        "colab": {
          "base_uri": "https://localhost:8080/"
        },
        "id": "xQHuT3cTL4Yn",
        "outputId": "e9cba19b-42d6-40a0-99fb-c24dfeb57c93"
      },
      "execution_count": null,
      "outputs": [
        {
          "output_type": "stream",
          "name": "stdout",
          "text": [
            "Looking in links: https://data.pyg.org/whl/torch-2.6.0+cu124.html\n",
            "Collecting torch_scatter\n",
            "  Downloading https://data.pyg.org/whl/torch-2.6.0%2Bcu124/torch_scatter-2.1.2%2Bpt26cu124-cp311-cp311-linux_x86_64.whl (10.8 MB)\n",
            "\u001b[2K     \u001b[90m━━━━━━━━━━━━━━━━━━━━━━━━━━━━━━━━━━━━━━━━\u001b[0m \u001b[32m10.8/10.8 MB\u001b[0m \u001b[31m31.8 MB/s\u001b[0m eta \u001b[36m0:00:00\u001b[0m\n",
            "\u001b[?25hCollecting torch_sparse\n",
            "  Downloading https://data.pyg.org/whl/torch-2.6.0%2Bcu124/torch_sparse-0.6.18%2Bpt26cu124-cp311-cp311-linux_x86_64.whl (5.0 MB)\n",
            "\u001b[2K     \u001b[90m━━━━━━━━━━━━━━━━━━━━━━━━━━━━━━━━━━━━━━━━\u001b[0m \u001b[32m5.0/5.0 MB\u001b[0m \u001b[31m40.1 MB/s\u001b[0m eta \u001b[36m0:00:00\u001b[0m\n",
            "\u001b[?25hRequirement already satisfied: scipy in /usr/local/lib/python3.11/dist-packages (from torch_sparse) (1.15.3)\n",
            "Requirement already satisfied: numpy<2.5,>=1.23.5 in /usr/local/lib/python3.11/dist-packages (from scipy->torch_sparse) (2.0.2)\n",
            "Installing collected packages: torch_scatter, torch_sparse\n",
            "Successfully installed torch_scatter-2.1.2+pt26cu124 torch_sparse-0.6.18+pt26cu124\n"
          ]
        }
      ]
    },
    {
      "cell_type": "code",
      "execution_count": null,
      "metadata": {
        "id": "sKBhRz5vKW3G"
      },
      "outputs": [],
      "source": [
        "import random\n",
        "from tqdm.notebook import tqdm\n",
        "import pandas as pd\n",
        "import numpy as np\n",
        "import matplotlib.pyplot as plt\n",
        "from sklearn.model_selection import train_test_split\n",
        "from sklearn import model_selection, metrics, preprocessing\n",
        "import copy\n",
        "\n",
        "import torch\n",
        "from torch import nn, optim, Tensor\n",
        "\n",
        "from torch_sparse import SparseTensor, matmul\n",
        "\n",
        "from collections import defaultdict\n",
        "\n",
        "from torch_geometric.utils import structured_negative_sampling\n",
        "from torch_geometric.data import download_url, extract_zip\n",
        "from torch_geometric.nn.conv.gcn_conv import gcn_norm\n",
        "from torch_geometric.nn.conv import MessagePassing\n",
        "from torch_geometric.typing import Adj\n",
        "import torch.nn.functional as F"
      ]
    },
    {
      "cell_type": "code",
      "source": [
        "url = \"https://files.grouplens.org/datasets/movielens/ml-latest-small.zip\"  # Updated URL\n",
        "extract_zip(download_url(url, '.'), '.')\n",
        "\n",
        "movie_path = 'ml-latest-small/movies.csv'\n",
        "rating_path = 'ml-latest-small/ratings.csv'\n",
        "user_path = 'ml-latest-small/users.csv'"
      ],
      "metadata": {
        "colab": {
          "base_uri": "https://localhost:8080/"
        },
        "id": "rGIJgIjgLtWf",
        "outputId": "5b821ee6-856f-4962-bd5d-f2057fb4d5eb"
      },
      "execution_count": null,
      "outputs": [
        {
          "output_type": "stream",
          "name": "stderr",
          "text": [
            "Downloading https://files.grouplens.org/datasets/movielens/ml-latest-small.zip\n",
            "Extracting ./ml-latest-small.zip\n"
          ]
        }
      ]
    },
    {
      "cell_type": "code",
      "source": [],
      "metadata": {
        "id": "XV1yvYUVm7Pn",
        "outputId": "3b207480-76e5-4d52-bd20-dc8ab72fd66f",
        "colab": {
          "base_uri": "https://localhost:8080/",
          "height": 36
        }
      },
      "execution_count": null,
      "outputs": [
        {
          "output_type": "execute_result",
          "data": {
            "text/plain": [
              "'ml-latest-small/users.csv'"
            ],
            "application/vnd.google.colaboratory.intrinsic+json": {
              "type": "string"
            }
          },
          "metadata": {},
          "execution_count": 6
        }
      ]
    },
    {
      "cell_type": "code",
      "source": [
        "rating_df=pd.read_csv(rating_path)\n",
        "\n",
        "lbl_user=preprocessing.LabelEncoder()\n",
        "lbl_movie=preprocessing.LabelEncoder()\n",
        "\n",
        "rating_df.userId=lbl_user.fit_transform(rating_df.userId.values)\n",
        "rating_df.movieId=lbl_movie.fit_transform(rating_df.movieId.values)"
      ],
      "metadata": {
        "id": "4bczx3bEQG8L"
      },
      "execution_count": null,
      "outputs": []
    },
    {
      "cell_type": "code",
      "source": [
        "print(rating_df.userId.max())\n",
        "print(rating_df.movieId.max())"
      ],
      "metadata": {
        "colab": {
          "base_uri": "https://localhost:8080/"
        },
        "id": "8Z_tmALDP0mC",
        "outputId": "d3fae60f-1fe7-4951-851a-4d52c5be4c5c"
      },
      "execution_count": null,
      "outputs": [
        {
          "output_type": "stream",
          "name": "stdout",
          "text": [
            "609\n",
            "9723\n"
          ]
        }
      ]
    },
    {
      "cell_type": "code",
      "source": [
        "def load_edge_csv(df,src_index_col,dst_index_col,link_index_col,rating_threshold=3.5):\n",
        "  edge_index=None\n",
        "  src=[user_id for user_id in df['userId']]\n",
        "\n",
        "  num_users=len(df['userId'].unique())\n",
        "  dst=[(movie_id) for movie_id in df['movieId']]\n",
        "  link_vals=df[link_index_col].values\n",
        "  edge_attr=torch.from_numpy(df[link_index_col].values).view(-1,1).to(torch.long)>=rating_threshold\n",
        "  edge_values=[]\n",
        "  edge_index=[[],[]]\n",
        "\n",
        "  for i in range(edge_attr.shape[0]):\n",
        "    if edge_attr[i]:\n",
        "      edge_index[0].append(src[i])\n",
        "      edge_index[1].append(dst[i])\n",
        "      edge_values.append(link_vals[i])\n",
        "\n",
        "  return edge_index, edge_values"
      ],
      "metadata": {
        "id": "_8yJ03_UQc7L"
      },
      "execution_count": null,
      "outputs": []
    },
    {
      "cell_type": "code",
      "source": [
        "edge_index, edge_values=load_edge_csv(rating_df,\n",
        "                                      src_index_col='userId',\n",
        "                                      dst_index_col='movieId',\n",
        "                                      link_index_col='rating',\n",
        "                                      rating_threshold=1)"
      ],
      "metadata": {
        "id": "352u6725V8-p"
      },
      "execution_count": null,
      "outputs": []
    },
    {
      "cell_type": "code",
      "source": [
        "edge_index=torch.LongTensor(edge_index)\n",
        "edge_values=torch.tensor(edge_values)\n",
        "\n",
        "print(edge_index)\n",
        "print(edge_index.size())\n",
        "\n",
        "print(edge_values)\n",
        "print(edge_values.size())"
      ],
      "metadata": {
        "colab": {
          "base_uri": "https://localhost:8080/"
        },
        "id": "BoqwRNReW6Wp",
        "outputId": "db469786-27c9-4cab-ebec-6c0bb1d4f488"
      },
      "execution_count": null,
      "outputs": [
        {
          "output_type": "stream",
          "name": "stdout",
          "text": [
            "tensor([[   0,    0,    0,  ...,  609,  609,  609],\n",
            "        [   0,    2,    5,  ..., 9444, 9445, 9485]])\n",
            "torch.Size([2, 99466])\n",
            "tensor([4., 4., 4.,  ..., 5., 5., 3.], dtype=torch.float64)\n",
            "torch.Size([99466])\n"
          ]
        }
      ]
    },
    {
      "cell_type": "code",
      "source": [
        "num_users=len(rating_df['userId'].unique())\n",
        "num_movies=len(rating_df['movieId'].unique())\n",
        "\n",
        "print(f\"num_users {num_users}, num_movies {num_movies}\")"
      ],
      "metadata": {
        "colab": {
          "base_uri": "https://localhost:8080/"
        },
        "id": "OY1NpxI5XRg1",
        "outputId": "19e7a577-3576-4aae-e75c-15f71e4c6abf"
      },
      "execution_count": null,
      "outputs": [
        {
          "output_type": "stream",
          "name": "stdout",
          "text": [
            "num_users 610, num_movies 9724\n"
          ]
        }
      ]
    },
    {
      "cell_type": "code",
      "source": [
        "def convert_r_mat_edge_index_to_adj_mat_edge_index(input_edge_index,input_edge_values):\n",
        "  R=torch.zeros((num_users,num_movies))\n",
        "  for i in range(len(input_edge_index[0])):\n",
        "    row_idx=input_edge_index[0][i]\n",
        "    col_idx=input_edge_index[1][i]\n",
        "    R[row_idx][col_idx]=input_edge_values[i]\n",
        "\n",
        "  R_transpose=torch.transpose(R,0,1)\n",
        "  adj_mat=torch.zeros((num_users+num_movies,num_users+num_movies))\n",
        "  adj_mat[:num_users,num_users:]=R.clone()\n",
        "  adj_mat[num_users:,:num_users]=R_transpose.clone()\n",
        "\n",
        "  adj_mat_coo=adj_mat.to_sparse_coo()\n",
        "  adj_mat_coo_indices=adj_mat_coo.indices()\n",
        "  adj_mat_coo_values=adj_mat_coo.values()\n",
        "  return adj_mat_coo_indices, adj_mat_coo_values"
      ],
      "metadata": {
        "id": "V4XONZxNYTMx"
      },
      "execution_count": null,
      "outputs": []
    },
    {
      "cell_type": "code",
      "source": [
        "def convert_adj_mat_edge_index_to_r_mat_edge_index(input_edge_index,input_edge_values):\n",
        "  sparse_input_edge_index=SparseTensor(row=input_edge_index[0],\n",
        "                                       col=input_edge_index[1],\n",
        "                                       value=input_edge_values,\n",
        "                                       sparse_sizes=((num_users+num_movies),num_users+num_movies))\n",
        "\n",
        "  adj_mat=sparse_input_edge_index.to_dense()\n",
        "  interact_mat=adj_mat[:num_users,num_users:]\n",
        "\n",
        "  r_mat_edge_index=interact_mat.to_sparse_coo().indices()\n",
        "  r_mat_edge_values=interact_mat.to_sparse_coo().values()\n",
        "  return r_mat_edge_index, r_mat_edge_values"
      ],
      "metadata": {
        "id": "xtHJKFrSdRvv"
      },
      "execution_count": null,
      "outputs": []
    },
    {
      "cell_type": "code",
      "source": [
        "num_interactions=edge_index.shape[1]\n",
        "all_indices=[i for i in range(num_interactions)]\n",
        "\n",
        "train_indices, test_indices=train_test_split(all_indices,\n",
        "                                             test_size=0.2,\n",
        "                                             random_state=1)\n",
        "\n",
        "val_indices, test_indices=train_test_split(test_indices,\n",
        "                                           test_size=0.5,\n",
        "                                           random_state=1)"
      ],
      "metadata": {
        "id": "6QEf0BWFs54v"
      },
      "execution_count": null,
      "outputs": []
    },
    {
      "cell_type": "code",
      "source": [
        "train_edge_index=edge_index[:,train_indices]\n",
        "train_edge_value=edge_values[train_indices]\n",
        "\n",
        "val_edge_index=edge_index[:,val_indices]\n",
        "val_edge_value=edge_values[val_indices]\n",
        "\n",
        "test_edge_index=edge_index[:,test_indices]\n",
        "test_edge_value=edge_values[test_indices]"
      ],
      "metadata": {
        "id": "r05lnHQMvBYl"
      },
      "execution_count": null,
      "outputs": []
    },
    {
      "cell_type": "code",
      "source": [
        "print(f\"num_users {num_users}, num_movies {num_movies}, num_interactions {num_interactions}\")\n",
        "print(f\"train_edge_index {train_edge_index}\")\n",
        "print((num_users+num_movies))\n",
        "print(torch.unique(train_edge_index[0]).size())\n",
        "print(torch.unique(train_edge_index[1]).size())\n",
        "print(test_edge_value)\n",
        "print(test_edge_value.size())"
      ],
      "metadata": {
        "colab": {
          "base_uri": "https://localhost:8080/"
        },
        "id": "voPDApAdwv5C",
        "outputId": "5d20c973-4140-43b7-fd69-7b5171303cab"
      },
      "execution_count": null,
      "outputs": [
        {
          "output_type": "stream",
          "name": "stdout",
          "text": [
            "num_users 610, num_movies 9724, num_interactions 99466\n",
            "train_edge_index tensor([[ 239,  102,  225,  ...,   34,  488,  609],\n",
            "        [ 274, 9006,  792,  ...,  260, 1486, 3867]])\n",
            "10334\n",
            "torch.Size([610])\n",
            "torch.Size([8898])\n",
            "tensor([4.5000, 3.5000, 3.5000,  ..., 3.5000, 5.0000, 1.0000],\n",
            "       dtype=torch.float64)\n",
            "torch.Size([9947])\n"
          ]
        }
      ]
    },
    {
      "cell_type": "code",
      "source": [
        "train_edge_index, train_edge_value=convert_r_mat_edge_index_to_adj_mat_edge_index(train_edge_index,train_edge_value)\n",
        "val_edge_index, val_edge_value=convert_r_mat_edge_index_to_adj_mat_edge_index(val_edge_index,val_edge_value)\n",
        "test_edge_index, test_edge_value=convert_r_mat_edge_index_to_adj_mat_edge_index(test_edge_index,test_edge_value)"
      ],
      "metadata": {
        "id": "5iuziLK6xTb1"
      },
      "execution_count": null,
      "outputs": []
    },
    {
      "cell_type": "code",
      "source": [
        "print(train_edge_index)\n",
        "print(train_edge_index.size())\n",
        "\n",
        "print(val_edge_index)\n",
        "print(val_edge_index.size())\n",
        "\n",
        "print(test_edge_index)\n",
        "print(test_edge_index.size())\n",
        "\n",
        "print(f\"\\n train_edge_values: \\n{train_edge_value} \\n {train_edge_value.size()}\")\n",
        "print(f\"\\n val_edge_values: \\n{val_edge_value} \\n {val_edge_value.size()}\")\n",
        "print(f\"\\n test_edge_values: \\n{test_edge_value} \\n {test_edge_value.size()}\")"
      ],
      "metadata": {
        "colab": {
          "base_uri": "https://localhost:8080/"
        },
        "id": "hWxLQI0SxpIs",
        "outputId": "ac8f0b58-e000-4062-91d6-723c7a8d8d70"
      },
      "execution_count": null,
      "outputs": [
        {
          "output_type": "stream",
          "name": "stdout",
          "text": [
            "tensor([[    0,     0,     0,  ..., 10331, 10332, 10333],\n",
            "        [  610,   615,   653,  ...,   183,   183,   330]])\n",
            "torch.Size([2, 159144])\n",
            "tensor([[    0,     0,     0,  ..., 10312, 10316, 10327],\n",
            "        [  612,   699,   924,  ...,   247,    49,   183]])\n",
            "torch.Size([2, 19894])\n",
            "tensor([[    0,     0,     0,  ..., 10302, 10307, 10310],\n",
            "        [  656,   734,   746,  ...,   513,   211,   337]])\n",
            "torch.Size([2, 19894])\n",
            "\n",
            " train_edge_values: \n",
            "tensor([4.0000, 4.0000, 5.0000,  ..., 3.5000, 3.5000, 4.0000]) \n",
            " torch.Size([159144])\n",
            "\n",
            " val_edge_values: \n",
            "tensor([4.0000, 5.0000, 4.0000,  ..., 3.5000, 3.5000, 4.0000]) \n",
            " torch.Size([19894])\n",
            "\n",
            " test_edge_values: \n",
            "tensor([5.0000, 5.0000, 5.0000,  ..., 3.0000, 4.5000, 2.5000]) \n",
            " torch.Size([19894])\n"
          ]
        }
      ]
    },
    {
      "cell_type": "code",
      "source": [
        "class LightGCN(MessagePassing):\n",
        "  def __init__(self,num_users,num_items,embedding_dim=64,K=3,add_self_loops=False,dropout_rate=0.2):\n",
        "    super().__init__()\n",
        "    self.dropout_rate=dropout_rate\n",
        "    self.num_users=num_users\n",
        "    self.num_items=num_items\n",
        "    self.embedding_dim=embedding_dim\n",
        "    self.K=K\n",
        "    self.add_self_loops=add_self_loops\n",
        "\n",
        "    self.users_emb=nn.Embedding(num_embeddings=self.num_users,\n",
        "                                embedding_dim=self.embedding_dim)\n",
        "    self.items_emb=nn.Embedding(num_embeddings=self.num_items,\n",
        "                                embedding_dim=self.embedding_dim)\n",
        "\n",
        "\n",
        "    nn.init.normal_(self.users_emb.weight,std=0.1)\n",
        "    nn.init.normal_(self.items_emb.weight,std=0.1)\n",
        "\n",
        "    self.out=nn.Linear(embedding_dim + embedding_dim,1)\n",
        "\n",
        "  def forward(self,edge_index:Tensor,edge_values:Tensor):\n",
        "    edge_index_norm=gcn_norm(edge_index=edge_index,add_self_loops=self.add_self_loops)\n",
        "    emb_0=torch.cat([self.users_emb.weight,self.items_emb.weight])\n",
        "    embs=[emb_0]\n",
        "    emb_k=emb_0\n",
        "\n",
        "    for i in range(self.K):\n",
        "      emb_k=self.propagate(edge_index=edge_index_norm[0],x=emb_k,norm=edge_index_norm[1])\n",
        "      embs.append(emb_k)\n",
        "\n",
        "    embs=torch.stack(embs,dim=1)\n",
        "    emb_final=torch.mean(embs,dim=1)\n",
        "\n",
        "    users_emb_final,items_emb_final=torch.split(emb_final,[self.num_users,self.num_items])\n",
        "\n",
        "    r_mat_edge_index, _ = convert_adj_mat_edge_index_to_r_mat_edge_index(edge_index,edge_values)\n",
        "\n",
        "    src, dest=r_mat_edge_index[0],r_mat_edge_index[1]\n",
        "\n",
        "    users_embeds=users_emb_final[src]\n",
        "    items_embeds=items_emb_final[dest]\n",
        "\n",
        "    output=torch.cat([users_embeds,items_embeds],dim=1)\n",
        "    output=self.out(output)\n",
        "\n",
        "    return output\n",
        "\n",
        "  def message(self,x_j,norm):\n",
        "    return norm.view(-1,1)*x_j\n",
        "\n",
        "layers=1\n",
        "model=LightGCN(num_users=num_users,\n",
        "               num_items=num_movies,\n",
        "               embedding_dim=64,\n",
        "               K=layers)"
      ],
      "metadata": {
        "id": "BcFhWo1F5ZeI"
      },
      "execution_count": null,
      "outputs": []
    },
    {
      "cell_type": "code",
      "source": [
        "ITERATIONS=10000\n",
        "EPOCHS=10\n",
        "BATCH_SIZE=1024\n",
        "LR=1e-3\n",
        "ITERS_PER_EVAL=200\n",
        "ITERS_PER_LR_DECAY=200\n",
        "K=10\n",
        "LAMBDA=1e-6"
      ],
      "metadata": {
        "id": "5EqBjBR28Xt7"
      },
      "execution_count": null,
      "outputs": []
    },
    {
      "cell_type": "code",
      "source": [
        "print(f\"BATCH_SIZE {BATCH_SIZE}\")"
      ],
      "metadata": {
        "colab": {
          "base_uri": "https://localhost:8080/"
        },
        "id": "RCiMqVYZ8sOK",
        "outputId": "80affdd5-0e02-4219-f700-899fb5d216c6"
      },
      "execution_count": null,
      "outputs": [
        {
          "output_type": "stream",
          "name": "stdout",
          "text": [
            "BATCH_SIZE 1024\n"
          ]
        }
      ]
    },
    {
      "cell_type": "code",
      "source": [
        "device=torch.device('cuda' if torch.cuda.is_available() else 'cpu')\n",
        "print(f\"Using device {device}.\")\n",
        "\n",
        "model=model.to(device)\n",
        "model.train()\n",
        "\n",
        "optimizer=optim.Adam(model.parameters(),lr=LR,weight_decay=0.01)\n",
        "scheduler=optim.lr_scheduler.ExponentialLR(optimizer,gamma=0.95)\n",
        "\n",
        "edge_index=edge_index.to(device)\n",
        "train_edg_index=train_edge_index.to(device)\n",
        "val_edge_index=val_edge_index.to(device)\n",
        "\n",
        "loss_func=nn.MSELoss()"
      ],
      "metadata": {
        "colab": {
          "base_uri": "https://localhost:8080/"
        },
        "id": "XfnlxWbl81r0",
        "outputId": "9eb4443e-5ade-4b74-ace8-994b8ceef313"
      },
      "execution_count": null,
      "outputs": [
        {
          "output_type": "stream",
          "name": "stdout",
          "text": [
            "Using device cpu.\n"
          ]
        }
      ]
    },
    {
      "cell_type": "code",
      "source": [
        "def get_recall_at_k(input_edge_index,\n",
        "                    input_edge_values,\n",
        "                    pred_ratings,\n",
        "                    k=10,\n",
        "                    threshold=3.5):\n",
        "  with torch.no_grad():\n",
        "    user_item_rating_list=defaultdict(list)\n",
        "\n",
        "    for i in range(len(input_edge_index[0])):\n",
        "      src=input_edge_index[0][i].item()\n",
        "      dest=input_edge_index[1][i].item()\n",
        "      true_rating=input_edge_values[i].item()\n",
        "      pred_rating=pred_ratings[i].item()\n",
        "\n",
        "      user_item_rating_list[src].append((pred_rating,true_rating))\n",
        "\n",
        "    recalls=dict()\n",
        "    precisions=dict()\n",
        "\n",
        "    for user_id, user_ratings in user_item_rating_list.items():\n",
        "      user_ratings.sort(key=lambda x:x[0],reverse=True)\n",
        "\n",
        "      n_rel=sum((true_r>=threshold) for (_,true_r) in user_ratings)\n",
        "      n_rec_k=sum((est>=threshold) for (est,_ ) in user_ratings[:k])\n",
        "\n",
        "      n_rel_and_rec_k=sum(\n",
        "          ((true_r>=threshold) and (est>=threshold))\n",
        "          for (est,true_r) in user_ratings[:k]\n",
        "      )\n",
        "\n",
        "      precisions[user_id]=n_rel_and_rec_k/n_rec_k if n_rec_k !=0 else 0\n",
        "      recalls[user_id]=n_rel_and_rec_k/n_rel if n_rel!=0 else 0\n",
        "\n",
        "    overall_recall=sum(rec for rec in recalls.values())/len(recalls)\n",
        "    overall_precision=sum(prec for prec in precisions.values())/len(precisions)\n",
        "\n",
        "    return overall_recall, overall_precision"
      ],
      "metadata": {
        "id": "FZ-J8k4G9H14"
      },
      "execution_count": null,
      "outputs": []
    },
    {
      "cell_type": "code",
      "source": [
        "r_mat_train_edge_index, r_mat_train_edge_values=convert_adj_mat_edge_index_to_r_mat_edge_index(train_edge_index,train_edge_value)\n",
        "r_mat_val_edge_index, r_mat_val_edge_values=convert_adj_mat_edge_index_to_r_mat_edge_index(val_edge_index,val_edge_value)\n",
        "r_mat_test_edge_index, r_mat_test_edge_values=convert_adj_mat_edge_index_to_r_mat_edge_index(test_edge_index,test_edge_value)"
      ],
      "metadata": {
        "id": "1KH4__FPB5-L"
      },
      "execution_count": null,
      "outputs": []
    },
    {
      "cell_type": "code",
      "source": [
        "train_losses=[]\n",
        "val_losses=[]\n",
        "val_recall_at_ks=[]\n",
        "\n",
        "for iter in tqdm(range(ITERATIONS)):\n",
        "  pred_ratings=model.forward(train_edge_index,train_edge_value)\n",
        "  train_loss=loss_func(pred_ratings,r_mat_train_edge_values.view(-1,1))\n",
        "  optimizer.zero_grad()\n",
        "  train_loss.backward()\n",
        "  optimizer.step()\n",
        "\n",
        "  if iter%ITERS_PER_EVAL==0:\n",
        "    model.eval()\n",
        "\n",
        "    with torch.no_grad():\n",
        "      val_pred_ratings=model.forward(val_edge_index,val_edge_value)\n",
        "      val_loss=loss_func(val_pred_ratings,r_mat_val_edge_values.view(-1,1)).sum()\n",
        "      recall_at_k,precision_at_k=get_recall_at_k(r_mat_val_edge_index,\n",
        "                                               r_mat_val_edge_values,\n",
        "                                               val_pred_ratings,\n",
        "                                               k=20)\n",
        "\n",
        "      val_recall_at_ks.append(round(recall_at_k,5))\n",
        "      train_losses.append(train_loss.item())\n",
        "      val_losses.append(val_loss.item())\n",
        "\n",
        "      print(f\"[Iteration {iter}/{ITERATIONS}], train_loss:{round(train_loss.item(),5)}, val_loss:{round(val_loss.item(),5)}, recall_at_k:{round(recall_at_k,5)}, precision_at_k:{round(precision_at_k,5)}\")\n",
        "\n",
        "    model.train()\n",
        "\n",
        "  if iter%ITERS_PER_LR_DECAY==0 and iter!=0:\n",
        "    scheduler.step()"
      ],
      "metadata": {
        "id": "q8gx-GUBCHWs",
        "colab": {
          "base_uri": "https://localhost:8080/",
          "height": 937,
          "referenced_widgets": [
            "9cb4200c79624db8b8a3118f93a27b11",
            "9646f913acfe4fcdb5c5acf582affc3d",
            "2159caec4c7143009e6b0896525e0509",
            "de5fb14614b7492ab9b4687b88a30619",
            "aab05ffdd60345f1a4af2334c3122e79",
            "b9c0e40b5a254a0f9eb54352af54486f",
            "8ad9fa54bbdf490c9a169f2ae29b7da8",
            "4b5093fc77a347d1a88d3c50f8b29151",
            "78d71601e4a842ca90ece3ccea9ac1a8",
            "22f82896f98d48f0975427f2f1c54a00",
            "7d720c99957d4f6bbd89fc7e69409c3b"
          ]
        },
        "outputId": "f2acdfbf-19de-4023-dc2b-85d0ce6c0cc9"
      },
      "execution_count": null,
      "outputs": [
        {
          "output_type": "display_data",
          "data": {
            "text/plain": [
              "  0%|          | 0/10000 [00:00<?, ?it/s]"
            ],
            "application/vnd.jupyter.widget-view+json": {
              "version_major": 2,
              "version_minor": 0,
              "model_id": "9cb4200c79624db8b8a3118f93a27b11"
            }
          },
          "metadata": {}
        },
        {
          "output_type": "stream",
          "name": "stdout",
          "text": [
            "[Iteration 0/10000], train_loss:13.07533, val_loss:13.05067, recall_at_k:0.0, precision_at_k:0.0\n",
            "[Iteration 200/10000], train_loss:2.37509, val_loss:2.48713, recall_at_k:0.01038, precision_at_k:0.10885\n",
            "[Iteration 400/10000], train_loss:1.51803, val_loss:1.58884, recall_at_k:0.07157, precision_at_k:0.29565\n",
            "[Iteration 600/10000], train_loss:1.28169, val_loss:1.34514, recall_at_k:0.1142, precision_at_k:0.36739\n",
            "[Iteration 800/10000], train_loss:1.16174, val_loss:1.22154, recall_at_k:0.14509, precision_at_k:0.41523\n",
            "[Iteration 1000/10000], train_loss:1.08594, val_loss:1.14359, recall_at_k:0.16977, precision_at_k:0.44399\n",
            "[Iteration 1200/10000], train_loss:1.0325, val_loss:1.0888, recall_at_k:0.18739, precision_at_k:0.46322\n",
            "[Iteration 1400/10000], train_loss:0.99228, val_loss:1.04765, recall_at_k:0.20452, precision_at_k:0.48545\n",
            "[Iteration 1600/10000], train_loss:0.96066, val_loss:1.01534, recall_at_k:0.21769, precision_at_k:0.49353\n",
            "[Iteration 1800/10000], train_loss:0.93505, val_loss:0.98912, recall_at_k:0.22889, precision_at_k:0.4977\n",
            "[Iteration 2000/10000], train_loss:0.91381, val_loss:0.96735, recall_at_k:0.23912, precision_at_k:0.50474\n",
            "[Iteration 2200/10000], train_loss:0.89592, val_loss:0.94891, recall_at_k:0.24568, precision_at_k:0.51113\n",
            "[Iteration 2400/10000], train_loss:0.88066, val_loss:0.93307, recall_at_k:0.25416, precision_at_k:0.51726\n",
            "[Iteration 2600/10000], train_loss:0.86751, val_loss:0.91932, recall_at_k:0.26156, precision_at_k:0.52176\n",
            "[Iteration 2800/10000], train_loss:0.8561, val_loss:0.90727, recall_at_k:0.26821, precision_at_k:0.52484\n",
            "[Iteration 3000/10000], train_loss:0.84615, val_loss:0.89664, recall_at_k:0.27415, precision_at_k:0.53001\n",
            "[Iteration 3200/10000], train_loss:0.83745, val_loss:0.88722, recall_at_k:0.27701, precision_at_k:0.5303\n",
            "[Iteration 3400/10000], train_loss:0.82983, val_loss:0.8788, recall_at_k:0.27965, precision_at_k:0.53099\n",
            "[Iteration 3600/10000], train_loss:0.8231, val_loss:0.87134, recall_at_k:0.28258, precision_at_k:0.53336\n",
            "[Iteration 3800/10000], train_loss:0.8172, val_loss:0.86465, recall_at_k:0.28785, precision_at_k:0.53648\n",
            "[Iteration 4000/10000], train_loss:0.81203, val_loss:0.85865, recall_at_k:0.29076, precision_at_k:0.53847\n",
            "[Iteration 4200/10000], train_loss:0.80748, val_loss:0.85326, recall_at_k:0.29237, precision_at_k:0.54015\n",
            "[Iteration 4400/10000], train_loss:0.80349, val_loss:0.84845, recall_at_k:0.2938, precision_at_k:0.54027\n",
            "[Iteration 4600/10000], train_loss:0.8, val_loss:0.84416, recall_at_k:0.29783, precision_at_k:0.54209\n",
            "[Iteration 4800/10000], train_loss:0.79696, val_loss:0.84026, recall_at_k:0.30228, precision_at_k:0.54403\n",
            "[Iteration 5000/10000], train_loss:0.79429, val_loss:0.83682, recall_at_k:0.304, precision_at_k:0.54409\n",
            "[Iteration 5200/10000], train_loss:0.79199, val_loss:0.83368, recall_at_k:0.30426, precision_at_k:0.54262\n",
            "[Iteration 5400/10000], train_loss:0.79, val_loss:0.83086, recall_at_k:0.30985, precision_at_k:0.54735\n",
            "[Iteration 5600/10000], train_loss:0.78826, val_loss:0.82837, recall_at_k:0.31102, precision_at_k:0.54705\n",
            "[Iteration 5800/10000], train_loss:0.78677, val_loss:0.8261, recall_at_k:0.31221, precision_at_k:0.54869\n",
            "[Iteration 6000/10000], train_loss:0.78547, val_loss:0.82407, recall_at_k:0.3144, precision_at_k:0.5497\n",
            "[Iteration 6200/10000], train_loss:0.78435, val_loss:0.82224, recall_at_k:0.31498, precision_at_k:0.54986\n",
            "[Iteration 6400/10000], train_loss:0.78338, val_loss:0.8206, recall_at_k:0.31809, precision_at_k:0.55227\n",
            "[Iteration 6600/10000], train_loss:0.78254, val_loss:0.81911, recall_at_k:0.31912, precision_at_k:0.5551\n",
            "[Iteration 6800/10000], train_loss:0.78182, val_loss:0.81777, recall_at_k:0.31901, precision_at_k:0.55438\n",
            "[Iteration 7000/10000], train_loss:0.78119, val_loss:0.81654, recall_at_k:0.31887, precision_at_k:0.55451\n",
            "[Iteration 7200/10000], train_loss:0.78064, val_loss:0.81543, recall_at_k:0.31957, precision_at_k:0.55434\n",
            "[Iteration 7400/10000], train_loss:0.78015, val_loss:0.81442, recall_at_k:0.32018, precision_at_k:0.55625\n",
            "[Iteration 7600/10000], train_loss:0.77974, val_loss:0.81348, recall_at_k:0.32, precision_at_k:0.55585\n",
            "[Iteration 7800/10000], train_loss:0.77935, val_loss:0.81265, recall_at_k:0.32098, precision_at_k:0.5563\n",
            "[Iteration 8000/10000], train_loss:0.77901, val_loss:0.81187, recall_at_k:0.32232, precision_at_k:0.55861\n",
            "[Iteration 8200/10000], train_loss:0.77871, val_loss:0.81114, recall_at_k:0.32199, precision_at_k:0.55916\n",
            "[Iteration 8400/10000], train_loss:0.77844, val_loss:0.81049, recall_at_k:0.32213, precision_at_k:0.55924\n",
            "[Iteration 8600/10000], train_loss:0.77819, val_loss:0.80987, recall_at_k:0.32406, precision_at_k:0.56093\n",
            "[Iteration 8800/10000], train_loss:0.77796, val_loss:0.8093, recall_at_k:0.32487, precision_at_k:0.56248\n",
            "[Iteration 9000/10000], train_loss:0.77776, val_loss:0.80877, recall_at_k:0.32675, precision_at_k:0.56442\n",
            "[Iteration 9200/10000], train_loss:0.77757, val_loss:0.80828, recall_at_k:0.32708, precision_at_k:0.56519\n",
            "[Iteration 9400/10000], train_loss:0.77739, val_loss:0.80782, recall_at_k:0.32778, precision_at_k:0.56719\n",
            "[Iteration 9600/10000], train_loss:0.77723, val_loss:0.80739, recall_at_k:0.32858, precision_at_k:0.56862\n",
            "[Iteration 9800/10000], train_loss:0.77707, val_loss:0.80698, recall_at_k:0.33099, precision_at_k:0.57167\n"
          ]
        }
      ]
    },
    {
      "cell_type": "code",
      "source": [
        "# iters={iter * ITERS_PER_EVAL for iter in range(len(train_losses))} # Original line\n",
        "iters=[iter * ITERS_PER_EVAL for iter in range(len(train_losses))]\n",
        "plt.plot(iters,train_losses,label='train_loss')\n",
        "plt.plot(iters,val_losses,label='validation')\n",
        "plt.xlabel('Iterations')\n",
        "plt.ylabel('Loss')\n",
        "plt.title('Training And Validation Loss Curves')\n",
        "plt.legend()\n",
        "plt.show()\n",
        "\n",
        "f2=plt.figure()\n",
        "plt.plot(iters,val_recall_at_ks,label='recall_at_k')\n",
        "plt.xlabel('Iterations')\n",
        "plt.ylabel('Recall_at_k')\n",
        "plt.title('Recall_at_K Curves')\n",
        "plt.show()"
      ],
      "metadata": {
        "colab": {
          "base_uri": "https://localhost:8080/",
          "height": 927
        },
        "id": "f38mUD1jnOXY",
        "outputId": "6a9f4b08-046c-44f9-eb35-b7581f6d7987"
      },
      "execution_count": null,
      "outputs": [
        {
          "output_type": "display_data",
          "data": {
            "text/plain": [
              "<Figure size 640x480 with 1 Axes>"
            ],
            "image/png": "[encoded data removed]"
          },
          "metadata": {}
        },
        {
          "output_type": "display_data",
          "data": {
            "text/plain": [
              "<Figure size 640x480 with 1 Axes>"
            ],
            "image/png": "[encoded data removed]"
          },
          "metadata": {}
        }
      ]
    },
    {
      "cell_type": "code",
      "source": [
        "f2=plt.figure()\n",
        "plt.plot(iters,val_recall_at_ks,label='recall_at_k')\n",
        "plt.xlabel('Iterations')\n",
        "plt.ylabel('Recall_at_k')\n",
        "plt.title('Recall_at_K Curves')\n",
        "plt.show()"
      ],
      "metadata": {
        "colab": {
          "base_uri": "https://localhost:8080/",
          "height": 472
        },
        "id": "e65_ivQEuS6e",
        "outputId": "2974294a-194e-40e0-ae48-3f6b9f8fb529"
      },
      "execution_count": null,
      "outputs": [
        {
          "output_type": "display_data",
          "data": {
            "text/plain": [
              "<Figure size 640x480 with 1 Axes>"
            ],
            "image/png": "[encoded data removed]"
          },
          "metadata": {}
        }
      ]
    },
    {
      "cell_type": "code",
      "source": [
        "model.eval()\n",
        "with torch.no_grad():\n",
        "  pred_ratings=model.forward(test_edge_index,test_edge_value)\n",
        "  recall_at_k,precision_at_k=get_recall_at_k(r_mat_test_edge_index,\n",
        "                                            r_mat_test_edge_values,\n",
        "                                            pred_ratings,20)\n",
        "  print(f\"recall_at_k:{round(recall_at_k,5)}, precision_at_k:{round(precision_at_k,5)}\")"
      ],
      "metadata": {
        "colab": {
          "base_uri": "https://localhost:8080/"
        },
        "id": "v0TdI8Giuyn8",
        "outputId": "55a3384a-848f-4758-857c-ccfb7215158d"
      },
      "execution_count": null,
      "outputs": [
        {
          "output_type": "stream",
          "name": "stdout",
          "text": [
            "recall_at_k:0.33667, precision_at_k:0.55942\n"
          ]
        }
      ]
    },
    {
      "cell_type": "code",
      "source": [],
      "metadata": {
        "id": "v5jbWxTuvKJo"
      },
      "execution_count": null,
      "outputs": []
    }
  ]
}